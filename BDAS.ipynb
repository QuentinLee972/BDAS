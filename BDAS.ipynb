{
 "cells": [
  {
   "cell_type": "code",
   "execution_count": 1,
   "metadata": {},
   "outputs": [],
   "source": [
    "import findspark\n",
    "import pandas\n",
    "import matplotlib.pyplot as plt\n",
    "import numpy\n",
    "findspark.init('/home/ubuntu/spark-2.1.1-bin-hadoop2.7')\n",
    "import pyspark\n",
    "from pyspark.sql import SparkSession\n",
    "spark = SparkSession.builder.appName('basics').getOrCreate()"
   ]
  },
  {
   "cell_type": "code",
   "execution_count": 2,
   "metadata": {},
   "outputs": [
    {
     "name": "stdout",
     "output_type": "stream",
     "text": [
      "+----------------+------------+--------------------+----------+-----------+-----+-----+-----+---+----+-----+\n",
      "|Measurement date|Station code|             Address|  Latitude|  Longitude|  SO2|  NO2|   O3| CO|PM10|PM2.5|\n",
      "+----------------+------------+--------------------+----------+-----------+-----+-----+-----+---+----+-----+\n",
      "|   2017/1/1 0:00|         101|19, Jong-ro 35ga-...|37.5720164|127.0050075|0.004|0.059|0.002|1.2|  73|   57|\n",
      "|   2017/1/1 1:00|         101|19, Jong-ro 35ga-...|37.5720164|127.0050075|0.004|0.058|0.002|1.2|  71|   59|\n",
      "|   2017/1/1 2:00|         101|19, Jong-ro 35ga-...|37.5720164|127.0050075|0.004|0.056|0.002|1.2|  70|   59|\n",
      "|   2017/1/1 3:00|         101|19, Jong-ro 35ga-...|37.5720164|127.0050075|0.004|0.056|0.002|1.2|  70|   58|\n",
      "|   2017/1/1 4:00|         101|19, Jong-ro 35ga-...|37.5720164|127.0050075|0.003|0.051|0.002|1.2|  69|   61|\n",
      "|   2017/1/1 5:00|         101|19, Jong-ro 35ga-...|37.5720164|127.0050075|0.003|0.046|0.002|1.1|  70|   61|\n",
      "|   2017/1/1 6:00|         101|19, Jong-ro 35ga-...|37.5720164|127.0050075|0.003|0.049|0.002|1.1|  66|   57|\n",
      "|   2017/1/1 7:00|         101|19, Jong-ro 35ga-...|37.5720164|127.0050075|0.003|0.045|0.002|1.0|  71|   60|\n",
      "|   2017/1/1 8:00|         101|19, Jong-ro 35ga-...|37.5720164|127.0050075|0.004|0.047|0.002|1.1|  72|   60|\n",
      "|   2017/1/1 9:00|         101|19, Jong-ro 35ga-...|37.5720164|127.0050075|0.003|0.047|0.002|1.1|  74|   63|\n",
      "|  2017/1/1 10:00|         101|19, Jong-ro 35ga-...|37.5720164|127.0050075|0.004|0.045|0.004|1.0|  76|   68|\n",
      "|  2017/1/1 11:00|         101|19, Jong-ro 35ga-...|37.5720164|127.0050075|0.004|0.048|0.005|1.0|  83|   74|\n",
      "|  2017/1/1 12:00|         101|19, Jong-ro 35ga-...|37.5720164|127.0050075|0.004|0.054|0.005|1.0|  93|   79|\n",
      "|  2017/1/1 13:00|         101|19, Jong-ro 35ga-...|37.5720164|127.0050075|0.005| 0.05|0.007|1.0|  94|   79|\n",
      "|  2017/1/1 14:00|         101|19, Jong-ro 35ga-...|37.5720164|127.0050075|0.006|0.055|0.008|0.9|  93|   78|\n",
      "|  2017/1/1 15:00|         101|19, Jong-ro 35ga-...|37.5720164|127.0050075|0.006|0.056|0.008|0.8|  87|   69|\n",
      "|  2017/1/1 16:00|         101|19, Jong-ro 35ga-...|37.5720164|127.0050075|0.006|0.063|0.004|0.9|  87|   69|\n",
      "|  2017/1/1 17:00|         101|19, Jong-ro 35ga-...|37.5720164|127.0050075|0.005|0.063|0.002|0.9|  91|   72|\n",
      "|  2017/1/1 18:00|         101|19, Jong-ro 35ga-...|37.5720164|127.0050075|0.005|0.063|0.002|1.0|  91|   69|\n",
      "|  2017/1/1 19:00|         101|19, Jong-ro 35ga-...|37.5720164|127.0050075|0.005|0.062|0.002|1.0|  92|   70|\n",
      "+----------------+------------+--------------------+----------+-----------+-----+-----+-----+---+----+-----+\n",
      "only showing top 20 rows\n",
      "\n"
     ]
    },
    {
     "ename": "NameError",
     "evalue": "name 'file' is not defined",
     "output_type": "error",
     "traceback": [
      "\u001b[0;31m---------------------------------------------------------------------------\u001b[0m",
      "\u001b[0;31mNameError\u001b[0m                                 Traceback (most recent call last)",
      "\u001b[0;32m<ipython-input-2-50e35de7c913>\u001b[0m in \u001b[0;36m<module>\u001b[0;34m()\u001b[0m\n\u001b[1;32m      1\u001b[0m \u001b[0mdata\u001b[0m \u001b[0;34m=\u001b[0m \u001b[0mspark\u001b[0m\u001b[0;34m.\u001b[0m\u001b[0mread\u001b[0m\u001b[0;34m.\u001b[0m\u001b[0mcsv\u001b[0m\u001b[0;34m(\u001b[0m\u001b[0;34m'./Measurement_summary.csv'\u001b[0m\u001b[0;34m,\u001b[0m \u001b[0mheader\u001b[0m\u001b[0;34m=\u001b[0m\u001b[0;32mTrue\u001b[0m\u001b[0;34m,\u001b[0m \u001b[0minferSchema\u001b[0m\u001b[0;34m=\u001b[0m\u001b[0;32mTrue\u001b[0m\u001b[0;34m)\u001b[0m\u001b[0;34m\u001b[0m\u001b[0m\n\u001b[1;32m      2\u001b[0m \u001b[0mdata\u001b[0m\u001b[0;34m.\u001b[0m\u001b[0mshow\u001b[0m\u001b[0;34m(\u001b[0m\u001b[0;34m)\u001b[0m\u001b[0;34m\u001b[0m\u001b[0m\n\u001b[0;32m----> 3\u001b[0;31m \u001b[0mfile\u001b[0m\u001b[0;34m.\u001b[0m\u001b[0mcolumns\u001b[0m\u001b[0;34m\u001b[0m\u001b[0m\n\u001b[0m\u001b[1;32m      4\u001b[0m \u001b[0mfile\u001b[0m\u001b[0;34m.\u001b[0m\u001b[0mprintSchema\u001b[0m\u001b[0;34m(\u001b[0m\u001b[0;34m)\u001b[0m\u001b[0;34m\u001b[0m\u001b[0m\n\u001b[1;32m      5\u001b[0m \u001b[0mfile\u001b[0m\u001b[0;34m.\u001b[0m\u001b[0mcount\u001b[0m\u001b[0;34m(\u001b[0m\u001b[0;34m)\u001b[0m\u001b[0;34m\u001b[0m\u001b[0m\n",
      "\u001b[0;31mNameError\u001b[0m: name 'file' is not defined"
     ]
    }
   ],
   "source": [
    "data = spark.read.csv('./Measurement_summary.csv', header=True, inferSchema=True)\n",
    "data.show()\n",
    "file.columns\n",
    "file.printSchema()\n",
    "file.count()"
   ]
  },
  {
   "cell_type": "code",
   "execution_count": 3,
   "metadata": {},
   "outputs": [],
   "source": [
    "data = pandas.read_csv(\"./Measurement_summary.csv\")"
   ]
  },
  {
   "cell_type": "code",
   "execution_count": 4,
   "metadata": {},
   "outputs": [
    {
     "name": "stdout",
     "output_type": "stream",
     "text": [
      "Index(['Measurement date', 'Station code', 'Address', 'Latitude', 'Longitude',\n",
      "       'SO2', 'NO2', 'O3', 'CO', 'PM10', 'PM2.5'],\n",
      "      dtype='object')\n",
      "(647511, 11)\n",
      "Measurement date     object\n",
      "Station code          int64\n",
      "Address              object\n",
      "Latitude            float64\n",
      "Longitude           float64\n",
      "SO2                 float64\n",
      "NO2                 float64\n",
      "O3                  float64\n",
      "CO                  float64\n",
      "PM10                  int64\n",
      "PM2.5                 int64\n",
      "dtype: object\n"
     ]
    }
   ],
   "source": [
    "print(data.columns)\n",
    "print(data.shape)\n",
    "print(data.dtypes)"
   ]
  },
  {
   "cell_type": "code",
   "execution_count": 5,
   "metadata": {},
   "outputs": [
    {
     "data": {
      "text/plain": [
       "(array([77714., 51786., 77690., 51810., 51797., 77701., 51798., 77692.,\n",
       "        51810., 77713.]),\n",
       " array([101. , 103.4, 105.8, 108.2, 110.6, 113. , 115.4, 117.8, 120.2,\n",
       "        122.6, 125. ]),\n",
       " <a list of 10 Patch objects>)"
      ]
     },
     "execution_count": 5,
     "metadata": {},
     "output_type": "execute_result"
    },
    {
     "data": {
      "image/png": "[encoded data removed]",
      "text/plain": [
       "<Figure size 432x288 with 1 Axes>"
      ]
     },
     "metadata": {},
     "output_type": "display_data"
    }
   ],
   "source": [
    "plt.hist(data[\"SO2\"])\n",
    "plt.hist(data[\"NO2\"])\n",
    "plt.hist(data[\"O3\"])\n",
    "plt.hist(data[\"CO\"])\n",
    "plt.hist(data[\"PM10\"])\n",
    "plt.hist(data[\"PM2.5\"])\n",
    "plt.hist(data[\"Station code\"])"
   ]
  },
  {
   "cell_type": "code",
   "execution_count": 6,
   "metadata": {},
   "outputs": [
    {
     "name": "stdout",
     "output_type": "stream",
     "text": [
      "Measurement date    False\n",
      "Station code        False\n",
      "Address             False\n",
      "Latitude            False\n",
      "Longitude           False\n",
      "SO2                 False\n",
      "NO2                 False\n",
      "O3                  False\n",
      "CO                  False\n",
      "PM10                False\n",
      "PM2.5               False\n",
      "dtype: bool\n"
     ]
    }
   ],
   "source": [
    "print(data.isnull().any())"
   ]
  },
  {
   "cell_type": "code",
   "execution_count": 7,
   "metadata": {},
   "outputs": [
    {
     "name": "stdout",
     "output_type": "stream",
     "text": [
      "Measurement date       0.0\n",
      "Station code           0.0\n",
      "Address                0.0\n",
      "Latitude               0.0\n",
      "Longitude              0.0\n",
      "SO2                 4346.0\n",
      "NO2                 4794.0\n",
      "O3                  4999.0\n",
      "CO                  4485.0\n",
      "PM10                6055.0\n",
      "PM2.5               6123.0\n",
      "dtype: float64\n"
     ]
    }
   ],
   "source": [
    "print((data == 0).astype(float).sum(axis=0))"
   ]
  },
  {
   "cell_type": "code",
   "execution_count": 8,
   "metadata": {},
   "outputs": [
    {
     "name": "stdout",
     "output_type": "stream",
     "text": [
      "Measurement date                                       2017/2/5 14:00\n",
      "Station code                                                      101\n",
      "Address             19, Jong-ro 35ga-gil, Jongno-gu, Seoul, Republ...\n",
      "Latitude                                                       37.572\n",
      "Longitude                                                     127.005\n",
      "SO2                                                                -1\n",
      "NO2                                                                -1\n",
      "O3                                                                 -1\n",
      "CO                                                                 -1\n",
      "PM10                                                               -1\n",
      "PM2.5                                                              -1\n",
      "Name: 854, dtype: object\n"
     ]
    }
   ],
   "source": [
    "print(data[data[\"SO2\"]<=0].iloc[0])"
   ]
  },
  {
   "cell_type": "code",
   "execution_count": 9,
   "metadata": {},
   "outputs": [
    {
     "name": "stdout",
     "output_type": "stream",
     "text": [
      "        Measurement date  Station code    SO2    NO2     O3   CO  PM10  PM2.5\n",
      "0          2017/1/1 0:00           101  0.004  0.059  0.002  1.2    73     57\n",
      "1          2017/1/1 1:00           101  0.004  0.058  0.002  1.2    71     59\n",
      "2          2017/1/1 2:00           101  0.004  0.056  0.002  1.2    70     59\n",
      "3          2017/1/1 3:00           101  0.004  0.056  0.002  1.2    70     58\n",
      "4          2017/1/1 4:00           101  0.003  0.051  0.002  1.2    69     61\n",
      "5          2017/1/1 5:00           101  0.003  0.046  0.002  1.1    70     61\n",
      "6          2017/1/1 6:00           101  0.003  0.049  0.002  1.1    66     57\n",
      "7          2017/1/1 7:00           101  0.003  0.045  0.002  1.0    71     60\n",
      "8          2017/1/1 8:00           101  0.004  0.047  0.002  1.1    72     60\n",
      "9          2017/1/1 9:00           101  0.003  0.047  0.002  1.1    74     63\n",
      "10        2017/1/1 10:00           101  0.004  0.045  0.004  1.0    76     68\n",
      "11        2017/1/1 11:00           101  0.004  0.048  0.005  1.0    83     74\n",
      "12        2017/1/1 12:00           101  0.004  0.054  0.005  1.0    93     79\n",
      "13        2017/1/1 13:00           101  0.005  0.050  0.007  1.0    94     79\n",
      "14        2017/1/1 14:00           101  0.006  0.055  0.008  0.9    93     78\n",
      "15        2017/1/1 15:00           101  0.006  0.056  0.008  0.8    87     69\n",
      "16        2017/1/1 16:00           101  0.006  0.063  0.004  0.9    87     69\n",
      "17        2017/1/1 17:00           101  0.005  0.063  0.002  0.9    91     72\n",
      "18        2017/1/1 18:00           101  0.005  0.063  0.002  1.0    91     69\n",
      "19        2017/1/1 19:00           101  0.005  0.062  0.002  1.0    92     70\n",
      "20        2017/1/1 20:00           101  0.004  0.056  0.002  0.9    94     74\n",
      "21        2017/1/1 21:00           101  0.004  0.058  0.002  0.9    93     74\n",
      "22        2017/1/1 22:00           101  0.004  0.058  0.002  1.0    89     73\n",
      "23        2017/1/1 23:00           101  0.004  0.057  0.002  1.0    91     72\n",
      "24         2017/1/2 0:00           101  0.004  0.057  0.002  1.1    93     72\n",
      "25         2017/1/2 1:00           101  0.004  0.057  0.002  1.0    92     74\n",
      "26         2017/1/2 2:00           101  0.004  0.055  0.002  1.0    90     73\n",
      "27         2017/1/2 3:00           101  0.004  0.053  0.002  1.0    92     74\n",
      "28         2017/1/2 4:00           101  0.004  0.052  0.002  1.1    92     76\n",
      "29         2017/1/2 5:00           101  0.004  0.050  0.002  1.0    92     77\n",
      "...                  ...           ...    ...    ...    ...  ...   ...    ...\n",
      "647481  2019/12/30 18:00           125  0.003  0.031  0.013  0.6    54     39\n",
      "647482  2019/12/30 19:00           125  0.003  0.022  0.018  0.5    47     34\n",
      "647483  2019/12/30 20:00           125  0.003  0.015  0.024  0.4    40     29\n",
      "647484  2019/12/30 21:00           125  0.003  0.014  0.024  0.4    35     25\n",
      "647485  2019/12/30 22:00           125  0.003  0.012  0.026  0.4    28     17\n",
      "647486  2019/12/30 23:00           125  0.003  0.012  0.024  0.4    30     17\n",
      "647487   2019/12/31 0:00           125  0.003  0.010  0.024  0.4    43     24\n",
      "647488   2019/12/31 1:00           125  0.003  0.009  0.025  0.4    36     23\n",
      "647489   2019/12/31 2:00           125  0.003  0.010  0.024  0.4    38     25\n",
      "647490   2019/12/31 3:00           125  0.003  0.010  0.023  0.4    43     29\n",
      "647491   2019/12/31 4:00           125  0.003  0.010  0.023  0.4    42     34\n",
      "647492   2019/12/31 5:00           125  0.003  0.011  0.023  0.4    31     24\n",
      "647493   2019/12/31 6:00           125  0.003  0.015  0.021  0.4    28     22\n",
      "647494   2019/12/31 7:00           125  0.002  0.018  0.019  0.4    25     19\n",
      "647495   2019/12/31 8:00           125  0.003  0.019  0.019  0.4    25     17\n",
      "647496   2019/12/31 9:00           125  0.003  0.017  0.020  0.4    20     13\n",
      "647497  2019/12/31 10:00           125  0.003  0.014  0.023  0.4    20     11\n",
      "647498  2019/12/31 11:00           125  0.002  0.014  0.023  0.4    18     13\n",
      "647499  2019/12/31 12:00           125  0.003  0.015  0.023  0.4    19     14\n",
      "647500  2019/12/31 13:00           125  0.003  0.015  0.023  0.4    22     15\n",
      "647501  2019/12/31 14:00           125  0.003  0.017  0.023  0.4    23     18\n",
      "647502  2019/12/31 15:00           125  0.002  0.020  0.021  0.4    24     18\n",
      "647503  2019/12/31 16:00           125  0.003  0.026  0.016  0.4    27     18\n",
      "647504  2019/12/31 17:00           125  0.003  0.031  0.012  0.4    27     19\n",
      "647505  2019/12/31 18:00           125  0.003  0.035  0.008  0.5    24     18\n",
      "647506  2019/12/31 19:00           125  0.003  0.028  0.013  0.5    23     17\n",
      "647507  2019/12/31 20:00           125  0.003  0.025  0.015  0.4    25     19\n",
      "647508  2019/12/31 21:00           125  0.003  0.023  0.015  0.4    24     17\n",
      "647509  2019/12/31 22:00           125  0.003  0.040  0.004  0.5    25     18\n",
      "647510  2019/12/31 23:00           125  0.003  0.037  0.005  0.5    27     18\n",
      "\n",
      "[647511 rows x 8 columns]\n"
     ]
    }
   ],
   "source": [
    "data_sel = data[[\"Measurement date\",\"Station code\",\"SO2\",\"NO2\",\"O3\",\"CO\",\"PM10\",\"PM2.5\"]]\n",
    "print(data_sel)"
   ]
  },
  {
   "cell_type": "code",
   "execution_count": 10,
   "metadata": {},
   "outputs": [
    {
     "name": "stdout",
     "output_type": "stream",
     "text": [
      "(647511, 8)\n",
      "(647511, 8)\n"
     ]
    },
    {
     "name": "stderr",
     "output_type": "stream",
     "text": [
      "/home/ubuntu/.local/lib/python3.5/site-packages/ipykernel_launcher.py:4: SettingWithCopyWarning: \n",
      "A value is trying to be set on a copy of a slice from a DataFrame\n",
      "\n",
      "See the caveats in the documentation: http://pandas.pydata.org/pandas-docs/stable/indexing.html#indexing-view-versus-copy\n",
      "  after removing the cwd from sys.path.\n"
     ]
    }
   ],
   "source": [
    "data_sel = data[[\"Measurement date\",\"Station code\",\"SO2\",\"NO2\",\"O3\",\"CO\",\"PM10\",\"PM2.5\"]]\n",
    "print(data_sel.shape)\n",
    "\n",
    "deta_sel = data_sel.dropna(axis=0, how='any', inplace=True)\n",
    "print(data_sel.shape)"
   ]
  },
  {
   "cell_type": "code",
   "execution_count": 11,
   "metadata": {},
   "outputs": [
    {
     "name": "stdout",
     "output_type": "stream",
     "text": [
      "(632447, 8)\n"
     ]
    }
   ],
   "source": [
    "data_cle = data_sel.drop(data_sel[data_sel[\"SO2\"]<=0].index)\n",
    "data_cle = data_cle.drop(data_cle[data_cle[\"NO2\"]<=0].index)\n",
    "data_cle = data_cle.drop(data_cle[data_cle[\"O3\"]<=0].index)\n",
    "data_cle = data_cle.drop(data_cle[data_cle[\"CO\"]<=0].index)\n",
    "data_cle = data_cle.drop(data_cle[data_cle[\"PM10\"]<=0].index)\n",
    "data_cle = data_cle.drop(data_cle[data_cle[\"PM2.5\"]<=0].index)\n",
    "\n",
    "print(data_cle.shape)"
   ]
  },
  {
   "cell_type": "code",
   "execution_count": 12,
   "metadata": {},
   "outputs": [
    {
     "name": "stdout",
     "output_type": "stream",
     "text": [
      "Measurement date    2017/1/1 0:00\n",
      "Station code                  101\n",
      "SO2                         0.004\n",
      "NO2                         0.059\n",
      "O3                          0.002\n",
      "CO                            1.2\n",
      "PM10                           73\n",
      "PM2.5                          57\n",
      "Name: 0, dtype: object\n"
     ]
    }
   ],
   "source": [
    "#print(data_cle[data_cle[\"SO2\"]<=0].iloc[0])\n",
    "print(data_cle[data_cle[\"SO2\"]>0].iloc[0])"
   ]
  },
  {
   "cell_type": "code",
   "execution_count": 14,
   "metadata": {},
   "outputs": [
    {
     "name": "stdout",
     "output_type": "stream",
     "text": [
      "Index(['Measurement date', 'Station code', 'SO2', 'NO2', 'O3', 'CO', 'PM10',\n",
      "       'PM2.5', 'SO2_level', 'NO2_level', 'O3_level', 'CO_level', 'PM10_level',\n",
      "       'PM2.5_level'],\n",
      "      dtype='object')\n",
      "        Measurement date  Station code    SO2    NO2     O3   CO  PM10  PM2.5  \\\n",
      "0          2017/1/1 0:00           101  0.004  0.059  0.002  1.2    73     57   \n",
      "1          2017/1/1 1:00           101  0.004  0.058  0.002  1.2    71     59   \n",
      "2          2017/1/1 2:00           101  0.004  0.056  0.002  1.2    70     59   \n",
      "3          2017/1/1 3:00           101  0.004  0.056  0.002  1.2    70     58   \n",
      "4          2017/1/1 4:00           101  0.003  0.051  0.002  1.2    69     61   \n",
      "5          2017/1/1 5:00           101  0.003  0.046  0.002  1.1    70     61   \n",
      "6          2017/1/1 6:00           101  0.003  0.049  0.002  1.1    66     57   \n",
      "7          2017/1/1 7:00           101  0.003  0.045  0.002  1.0    71     60   \n",
      "8          2017/1/1 8:00           101  0.004  0.047  0.002  1.1    72     60   \n",
      "9          2017/1/1 9:00           101  0.003  0.047  0.002  1.1    74     63   \n",
      "10        2017/1/1 10:00           101  0.004  0.045  0.004  1.0    76     68   \n",
      "11        2017/1/1 11:00           101  0.004  0.048  0.005  1.0    83     74   \n",
      "12        2017/1/1 12:00           101  0.004  0.054  0.005  1.0    93     79   \n",
      "13        2017/1/1 13:00           101  0.005  0.050  0.007  1.0    94     79   \n",
      "14        2017/1/1 14:00           101  0.006  0.055  0.008  0.9    93     78   \n",
      "15        2017/1/1 15:00           101  0.006  0.056  0.008  0.8    87     69   \n",
      "16        2017/1/1 16:00           101  0.006  0.063  0.004  0.9    87     69   \n",
      "17        2017/1/1 17:00           101  0.005  0.063  0.002  0.9    91     72   \n",
      "18        2017/1/1 18:00           101  0.005  0.063  0.002  1.0    91     69   \n",
      "19        2017/1/1 19:00           101  0.005  0.062  0.002  1.0    92     70   \n",
      "20        2017/1/1 20:00           101  0.004  0.056  0.002  0.9    94     74   \n",
      "21        2017/1/1 21:00           101  0.004  0.058  0.002  0.9    93     74   \n",
      "22        2017/1/1 22:00           101  0.004  0.058  0.002  1.0    89     73   \n",
      "23        2017/1/1 23:00           101  0.004  0.057  0.002  1.0    91     72   \n",
      "24         2017/1/2 0:00           101  0.004  0.057  0.002  1.1    93     72   \n",
      "25         2017/1/2 1:00           101  0.004  0.057  0.002  1.0    92     74   \n",
      "26         2017/1/2 2:00           101  0.004  0.055  0.002  1.0    90     73   \n",
      "27         2017/1/2 3:00           101  0.004  0.053  0.002  1.0    92     74   \n",
      "28         2017/1/2 4:00           101  0.004  0.052  0.002  1.1    92     76   \n",
      "29         2017/1/2 5:00           101  0.004  0.050  0.002  1.0    92     77   \n",
      "...                  ...           ...    ...    ...    ...  ...   ...    ...   \n",
      "647481  2019/12/30 18:00           125  0.003  0.031  0.013  0.6    54     39   \n",
      "647482  2019/12/30 19:00           125  0.003  0.022  0.018  0.5    47     34   \n",
      "647483  2019/12/30 20:00           125  0.003  0.015  0.024  0.4    40     29   \n",
      "647484  2019/12/30 21:00           125  0.003  0.014  0.024  0.4    35     25   \n",
      "647485  2019/12/30 22:00           125  0.003  0.012  0.026  0.4    28     17   \n",
      "647486  2019/12/30 23:00           125  0.003  0.012  0.024  0.4    30     17   \n",
      "647487   2019/12/31 0:00           125  0.003  0.010  0.024  0.4    43     24   \n",
      "647488   2019/12/31 1:00           125  0.003  0.009  0.025  0.4    36     23   \n",
      "647489   2019/12/31 2:00           125  0.003  0.010  0.024  0.4    38     25   \n",
      "647490   2019/12/31 3:00           125  0.003  0.010  0.023  0.4    43     29   \n",
      "647491   2019/12/31 4:00           125  0.003  0.010  0.023  0.4    42     34   \n",
      "647492   2019/12/31 5:00           125  0.003  0.011  0.023  0.4    31     24   \n",
      "647493   2019/12/31 6:00           125  0.003  0.015  0.021  0.4    28     22   \n",
      "647494   2019/12/31 7:00           125  0.002  0.018  0.019  0.4    25     19   \n",
      "647495   2019/12/31 8:00           125  0.003  0.019  0.019  0.4    25     17   \n",
      "647496   2019/12/31 9:00           125  0.003  0.017  0.020  0.4    20     13   \n",
      "647497  2019/12/31 10:00           125  0.003  0.014  0.023  0.4    20     11   \n",
      "647498  2019/12/31 11:00           125  0.002  0.014  0.023  0.4    18     13   \n",
      "647499  2019/12/31 12:00           125  0.003  0.015  0.023  0.4    19     14   \n",
      "647500  2019/12/31 13:00           125  0.003  0.015  0.023  0.4    22     15   \n",
      "647501  2019/12/31 14:00           125  0.003  0.017  0.023  0.4    23     18   \n",
      "647502  2019/12/31 15:00           125  0.002  0.020  0.021  0.4    24     18   \n",
      "647503  2019/12/31 16:00           125  0.003  0.026  0.016  0.4    27     18   \n",
      "647504  2019/12/31 17:00           125  0.003  0.031  0.012  0.4    27     19   \n",
      "647505  2019/12/31 18:00           125  0.003  0.035  0.008  0.5    24     18   \n",
      "647506  2019/12/31 19:00           125  0.003  0.028  0.013  0.5    23     17   \n",
      "647507  2019/12/31 20:00           125  0.003  0.025  0.015  0.4    25     19   \n",
      "647508  2019/12/31 21:00           125  0.003  0.023  0.015  0.4    24     17   \n",
      "647509  2019/12/31 22:00           125  0.003  0.040  0.004  0.5    25     18   \n",
      "647510  2019/12/31 23:00           125  0.003  0.037  0.005  0.5    27     18   \n",
      "\n",
      "        SO2_level  NO2_level  O3_level  CO_level  PM10_level  PM2.5_level  \n",
      "0           False      False     False     False       False        False  \n",
      "1           False      False     False     False       False        False  \n",
      "2           False      False     False     False       False        False  \n",
      "3           False      False     False     False       False        False  \n",
      "4           False      False     False     False       False        False  \n",
      "5           False      False     False     False       False        False  \n",
      "6           False      False     False     False       False        False  \n",
      "7           False      False     False     False       False        False  \n",
      "8           False      False     False     False       False        False  \n",
      "9           False      False     False     False       False        False  \n",
      "10          False      False     False     False       False        False  \n",
      "11          False      False     False     False       False        False  \n",
      "12          False      False     False     False       False         True  \n",
      "13          False      False     False     False       False         True  \n",
      "14          False      False     False     False       False         True  \n",
      "15          False      False     False     False       False        False  \n",
      "16          False      False     False     False       False        False  \n",
      "17          False      False     False     False       False        False  \n",
      "18          False      False     False     False       False        False  \n",
      "19          False      False     False     False       False        False  \n",
      "20          False      False     False     False       False        False  \n",
      "21          False      False     False     False       False        False  \n",
      "22          False      False     False     False       False        False  \n",
      "23          False      False     False     False       False        False  \n",
      "24          False      False     False     False       False        False  \n",
      "25          False      False     False     False       False        False  \n",
      "26          False      False     False     False       False        False  \n",
      "27          False      False     False     False       False        False  \n",
      "28          False      False     False     False       False         True  \n",
      "29          False      False     False     False       False         True  \n",
      "...           ...        ...       ...       ...         ...          ...  \n",
      "647481      False      False     False     False       False        False  \n",
      "647482      False      False     False     False       False        False  \n",
      "647483      False      False     False     False       False        False  \n",
      "647484      False      False     False     False       False        False  \n",
      "647485      False      False     False     False       False        False  \n",
      "647486      False      False     False     False       False        False  \n",
      "647487      False      False     False     False       False        False  \n",
      "647488      False      False     False     False       False        False  \n",
      "647489      False      False     False     False       False        False  \n",
      "647490      False      False     False     False       False        False  \n",
      "647491      False      False     False     False       False        False  \n",
      "647492      False      False     False     False       False        False  \n",
      "647493      False      False     False     False       False        False  \n",
      "647494      False      False     False     False       False        False  \n",
      "647495      False      False     False     False       False        False  \n",
      "647496      False      False     False     False       False        False  \n",
      "647497      False      False     False     False       False        False  \n",
      "647498      False      False     False     False       False        False  \n",
      "647499      False      False     False     False       False        False  \n",
      "647500      False      False     False     False       False        False  \n",
      "647501      False      False     False     False       False        False  \n",
      "647502      False      False     False     False       False        False  \n",
      "647503      False      False     False     False       False        False  \n",
      "647504      False      False     False     False       False        False  \n",
      "647505      False      False     False     False       False        False  \n",
      "647506      False      False     False     False       False        False  \n",
      "647507      False      False     False     False       False        False  \n",
      "647508      False      False     False     False       False        False  \n",
      "647509      False      False     False     False       False        False  \n",
      "647510      False      False     False     False       False        False  \n",
      "\n",
      "[632447 rows x 14 columns]\n"
     ]
    }
   ],
   "source": [
    "data_cle[\"SO2_level\"] = data_cle[\"SO2\"]>=0.15\n",
    "data_cle[\"NO2_level\"] = data_cle[\"NO2\"]>=0.2\n",
    "data_cle[\"O3_level\"] = data_cle[\"O3\"]>=0.15\n",
    "data_cle[\"CO_level\"] = data_cle[\"CO\"]>=15\n",
    "data_cle[\"PM10_level\"] = data_cle[\"PM10\"]>=150\n",
    "data_cle[\"PM2.5_level\"] = data_cle[\"PM2.5\"]>=75\n",
    "print(data_cle.columns)\n",
    "print(data_cle)"
   ]
  },
  {
   "cell_type": "code",
   "execution_count": 15,
   "metadata": {},
   "outputs": [
    {
     "name": "stdout",
     "output_type": "stream",
     "text": [
      "       Measurement date  Station code    SO2    NO2     O3   CO  PM10  PM2.5  \\\n",
      "23202     2019/9/9 9:00           101  0.003  0.036  0.008  0.8    48     33   \n",
      "23201     2019/9/9 8:00           101  0.004  0.035  0.006  0.9    50     34   \n",
      "23200     2019/9/9 7:00           101  0.003  0.030  0.005  0.7    49     34   \n",
      "23215    2019/9/9 22:00           101  0.003  0.035  0.006  0.5    21     16   \n",
      "23214    2019/9/9 21:00           101  0.003  0.037  0.006  0.5    18     13   \n",
      "23213    2019/9/9 20:00           101  0.002  0.037  0.009  0.6    16     14   \n",
      "23212    2019/9/9 19:00           101  0.003  0.038  0.011  0.6    16     12   \n",
      "23211    2019/9/9 18:00           101  0.003  0.035  0.014  0.5    17     13   \n",
      "23210    2019/9/9 17:00           101  0.003  0.042  0.015  0.6    22     19   \n",
      "23209    2019/9/9 16:00           101  0.003  0.037  0.023  0.6    21     18   \n",
      "23208    2019/9/9 15:00           101  0.003  0.026  0.026  0.5    18     14   \n",
      "23207    2019/9/9 14:00           101  0.004  0.032  0.026  0.6    22     20   \n",
      "23206    2019/9/9 13:00           101  0.003  0.029  0.026  0.6    25     20   \n",
      "23205    2019/9/9 12:00           101  0.004  0.032  0.023  0.6    32     24   \n",
      "23204    2019/9/9 11:00           101  0.004  0.030  0.023  0.7    39     28   \n",
      "23203    2019/9/9 10:00           101  0.004  0.039  0.010  0.9    48     33   \n",
      "23186     2019/9/6 9:00           101  0.003  0.019  0.005  0.5    10      5   \n",
      "23185     2019/9/6 8:00           101  0.003  0.022  0.004  0.6    11      3   \n",
      "23184     2019/9/6 7:00           101  0.003  0.021  0.003  0.5     7      3   \n",
      "23183     2019/9/6 6:00           101  0.003  0.020  0.004  0.4     5      2   \n",
      "23182     2019/9/6 5:00           101  0.003  0.014  0.007  0.4     4      2   \n",
      "23181     2019/9/6 4:00           101  0.003  0.012  0.010  0.5     7      3   \n",
      "23180     2019/9/6 3:00           101  0.003  0.012  0.010  0.3     6      3   \n",
      "23179     2019/9/6 2:00           101  0.003  0.016  0.008  0.4     7      4   \n",
      "23199    2019/9/6 22:00           101  0.003  0.027  0.002  0.5    22     15   \n",
      "23198    2019/9/6 21:00           101  0.003  0.032  0.002  0.6    25     17   \n",
      "23197    2019/9/6 20:00           101  0.003  0.036  0.002  0.6    20     16   \n",
      "23178     2019/9/6 1:00           101  0.003  0.018  0.007  0.3     5      3   \n",
      "23196    2019/9/6 19:00           101  0.003  0.036  0.003  0.6    20     13   \n",
      "23195    2019/9/6 18:00           101  0.003  0.031  0.008  0.5    21     15   \n",
      "...                 ...           ...    ...    ...    ...  ...   ...    ...   \n",
      "621837  2017/1/10 14:00           125  0.004  0.014  0.031  0.4    40     14   \n",
      "621836  2017/1/10 13:00           125  0.004  0.015  0.028  0.4    38     11   \n",
      "621835  2017/1/10 12:00           125  0.005  0.019  0.025  0.5    44     19   \n",
      "621834  2017/1/10 11:00           125  0.005  0.020  0.023  0.5    43     17   \n",
      "621833  2017/1/10 10:00           125  0.004  0.029  0.016  0.5    35     15   \n",
      "621823   2017/1/10 0:00           125  0.005  0.032  0.015  0.5    63     37   \n",
      "621616    2017/1/1 9:00           125  0.004  0.032  0.002  0.8    65     42   \n",
      "621615    2017/1/1 8:00           125  0.003  0.030  0.002  0.8    73     40   \n",
      "621614    2017/1/1 7:00           125  0.003  0.030  0.002  0.8    77     44   \n",
      "621613    2017/1/1 6:00           125  0.003  0.029  0.002  0.8    67     38   \n",
      "621612    2017/1/1 5:00           125  0.004  0.032  0.002  0.8    60     44   \n",
      "621611    2017/1/1 4:00           125  0.003  0.035  0.002  0.8    66     48   \n",
      "621610    2017/1/1 3:00           125  0.004  0.037  0.002  0.9    68     46   \n",
      "621609    2017/1/1 2:00           125  0.003  0.035  0.002  0.8    72     56   \n",
      "621630   2017/1/1 23:00           125  0.004  0.051  0.002  0.9   106     59   \n",
      "621629   2017/1/1 22:00           125  0.004  0.048  0.002  0.9    90     61   \n",
      "621628   2017/1/1 21:00           125  0.004  0.045  0.002  0.8    86     57   \n",
      "621627   2017/1/1 20:00           125  0.005  0.048  0.002  0.9    91     62   \n",
      "621608    2017/1/1 1:00           125  0.004  0.041  0.002  0.9    78     63   \n",
      "621626   2017/1/1 19:00           125  0.004  0.049  0.002  0.9    97     75   \n",
      "621625   2017/1/1 18:00           125  0.004  0.050  0.002  0.9   106     77   \n",
      "621624   2017/1/1 17:00           125  0.004  0.051  0.002  0.9    86     48   \n",
      "621623   2017/1/1 16:00           125  0.004  0.048  0.005  0.8    87     54   \n",
      "621622   2017/1/1 15:00           125  0.005  0.039  0.010  0.7    81     46   \n",
      "621621   2017/1/1 14:00           125  0.004  0.035  0.009  0.7    88     54   \n",
      "621620   2017/1/1 13:00           125  0.004  0.035  0.008  0.7    95     53   \n",
      "621619   2017/1/1 12:00           125  0.004  0.032  0.007  0.7    66     57   \n",
      "621618   2017/1/1 11:00           125  0.004  0.032  0.005  0.8    70     60   \n",
      "621617   2017/1/1 10:00           125  0.003  0.031  0.003  0.9    67     64   \n",
      "621607    2017/1/1 0:00           125  0.004  0.042  0.002  0.9    68     53   \n",
      "\n",
      "        SO2_level  NO2_level  O3_level  CO_level  PM10_level  PM2.5_level  \n",
      "23202       False      False     False     False       False        False  \n",
      "23201       False      False     False     False       False        False  \n",
      "23200       False      False     False     False       False        False  \n",
      "23215       False      False     False     False       False        False  \n",
      "23214       False      False     False     False       False        False  \n",
      "23213       False      False     False     False       False        False  \n",
      "23212       False      False     False     False       False        False  \n",
      "23211       False      False     False     False       False        False  \n",
      "23210       False      False     False     False       False        False  \n",
      "23209       False      False     False     False       False        False  \n",
      "23208       False      False     False     False       False        False  \n",
      "23207       False      False     False     False       False        False  \n",
      "23206       False      False     False     False       False        False  \n",
      "23205       False      False     False     False       False        False  \n",
      "23204       False      False     False     False       False        False  \n",
      "23203       False      False     False     False       False        False  \n",
      "23186       False      False     False     False       False        False  \n",
      "23185       False      False     False     False       False        False  \n",
      "23184       False      False     False     False       False        False  \n",
      "23183       False      False     False     False       False        False  \n",
      "23182       False      False     False     False       False        False  \n",
      "23181       False      False     False     False       False        False  \n",
      "23180       False      False     False     False       False        False  \n",
      "23179       False      False     False     False       False        False  \n",
      "23199       False      False     False     False       False        False  \n",
      "23198       False      False     False     False       False        False  \n",
      "23197       False      False     False     False       False        False  \n",
      "23178       False      False     False     False       False        False  \n",
      "23196       False      False     False     False       False        False  \n",
      "23195       False      False     False     False       False        False  \n",
      "...           ...        ...       ...       ...         ...          ...  \n",
      "621837      False      False     False     False       False        False  \n",
      "621836      False      False     False     False       False        False  \n",
      "621835      False      False     False     False       False        False  \n",
      "621834      False      False     False     False       False        False  \n",
      "621833      False      False     False     False       False        False  \n",
      "621823      False      False     False     False       False        False  \n",
      "621616      False      False     False     False       False        False  \n",
      "621615      False      False     False     False       False        False  \n",
      "621614      False      False     False     False       False        False  \n",
      "621613      False      False     False     False       False        False  \n",
      "621612      False      False     False     False       False        False  \n",
      "621611      False      False     False     False       False        False  \n",
      "621610      False      False     False     False       False        False  \n",
      "621609      False      False     False     False       False        False  \n",
      "621630      False      False     False     False       False        False  \n",
      "621629      False      False     False     False       False        False  \n",
      "621628      False      False     False     False       False        False  \n",
      "621627      False      False     False     False       False        False  \n",
      "621608      False      False     False     False       False        False  \n",
      "621626      False      False     False     False       False         True  \n",
      "621625      False      False     False     False       False         True  \n",
      "621624      False      False     False     False       False        False  \n",
      "621623      False      False     False     False       False        False  \n",
      "621622      False      False     False     False       False        False  \n",
      "621621      False      False     False     False       False        False  \n",
      "621620      False      False     False     False       False        False  \n",
      "621619      False      False     False     False       False        False  \n",
      "621618      False      False     False     False       False        False  \n",
      "621617      False      False     False     False       False        False  \n",
      "621607      False      False     False     False       False        False  \n",
      "\n",
      "[632447 rows x 14 columns]\n"
     ]
    },
    {
     "name": "stdout",
     "output_type": "stream",
     "text": [
      "       Measurement date  Station code    SO2    NO2     O3   CO  PM10  PM2.5  \\\n",
      "0         2017/1/1 0:00           101  0.004  0.059  0.002  1.2    73     57   \n",
      "10       2017/1/1 10:00           101  0.004  0.045  0.004  1.0    76     68   \n",
      "11       2017/1/1 11:00           101  0.004  0.048  0.005  1.0    83     74   \n",
      "12       2017/1/1 12:00           101  0.004  0.054  0.005  1.0    93     79   \n",
      "13       2017/1/1 13:00           101  0.005  0.050  0.007  1.0    94     79   \n",
      "14       2017/1/1 14:00           101  0.006  0.055  0.008  0.9    93     78   \n",
      "15       2017/1/1 15:00           101  0.006  0.056  0.008  0.8    87     69   \n",
      "16       2017/1/1 16:00           101  0.006  0.063  0.004  0.9    87     69   \n",
      "17       2017/1/1 17:00           101  0.005  0.063  0.002  0.9    91     72   \n",
      "18       2017/1/1 18:00           101  0.005  0.063  0.002  1.0    91     69   \n",
      "19       2017/1/1 19:00           101  0.005  0.062  0.002  1.0    92     70   \n",
      "1         2017/1/1 1:00           101  0.004  0.058  0.002  1.2    71     59   \n",
      "20       2017/1/1 20:00           101  0.004  0.056  0.002  0.9    94     74   \n",
      "21       2017/1/1 21:00           101  0.004  0.058  0.002  0.9    93     74   \n",
      "22       2017/1/1 22:00           101  0.004  0.058  0.002  1.0    89     73   \n",
      "23       2017/1/1 23:00           101  0.004  0.057  0.002  1.0    91     72   \n",
      "2         2017/1/1 2:00           101  0.004  0.056  0.002  1.2    70     59   \n",
      "3         2017/1/1 3:00           101  0.004  0.056  0.002  1.2    70     58   \n",
      "4         2017/1/1 4:00           101  0.003  0.051  0.002  1.2    69     61   \n",
      "5         2017/1/1 5:00           101  0.003  0.046  0.002  1.1    70     61   \n",
      "6         2017/1/1 6:00           101  0.003  0.049  0.002  1.1    66     57   \n",
      "7         2017/1/1 7:00           101  0.003  0.045  0.002  1.0    71     60   \n",
      "8         2017/1/1 8:00           101  0.004  0.047  0.002  1.1    72     60   \n",
      "9         2017/1/1 9:00           101  0.003  0.047  0.002  1.1    74     63   \n",
      "216      2017/1/10 0:00           101  0.004  0.026  0.019  0.5    44     34   \n",
      "226     2017/1/10 10:00           101  0.005  0.024  0.022  0.4    30     15   \n",
      "227     2017/1/10 11:00           101  0.005  0.027  0.020  0.5    36     19   \n",
      "228     2017/1/10 12:00           101  0.005  0.018  0.029  0.4    35     21   \n",
      "229     2017/1/10 13:00           101  0.004  0.016  0.030  0.4    35     19   \n",
      "230     2017/1/10 14:00           101  0.051  0.007  0.014  6.0   143    149   \n",
      "...                 ...           ...    ...    ...    ...  ...   ...    ...   \n",
      "644801   2019/9/6 18:00           125  0.003  0.027  0.009  0.5    20     13   \n",
      "644802   2019/9/6 19:00           125  0.003  0.026  0.009  0.4    19     14   \n",
      "644784    2019/9/6 1:00           125  0.002  0.022  0.004  0.4     7      3   \n",
      "644803   2019/9/6 20:00           125  0.003  0.023  0.009  0.4    17     14   \n",
      "644804   2019/9/6 21:00           125  0.003  0.026  0.004  0.4    26     16   \n",
      "644805   2019/9/6 22:00           125  0.003  0.022  0.005  0.4    21     16   \n",
      "644785    2019/9/6 2:00           125  0.003  0.018  0.005  0.3     7      1   \n",
      "644786    2019/9/6 3:00           125  0.003  0.016  0.006  0.3     7      2   \n",
      "644787    2019/9/6 4:00           125  0.002  0.012  0.008  0.3     5      1   \n",
      "644788    2019/9/6 5:00           125  0.003  0.016  0.006  0.3     6      3   \n",
      "644789    2019/9/6 6:00           125  0.003  0.018  0.006  0.3     4      2   \n",
      "644790    2019/9/6 7:00           125  0.003  0.019  0.006  0.3     6      2   \n",
      "644791    2019/9/6 8:00           125  0.003  0.016  0.008  0.3     4      1   \n",
      "644792    2019/9/6 9:00           125  0.003  0.013  0.011  0.3     8      3   \n",
      "644809   2019/9/9 10:00           125  0.003  0.024  0.014  0.6    42     35   \n",
      "644810   2019/9/9 11:00           125  0.003  0.018  0.028  0.5    32     28   \n",
      "644811   2019/9/9 12:00           125  0.003  0.010  0.045  0.4    13     21   \n",
      "644812   2019/9/9 13:00           125  0.003  0.009  0.045  0.4    15     18   \n",
      "644813   2019/9/9 14:00           125  0.003  0.014  0.042  0.4    16     15   \n",
      "644814   2019/9/9 15:00           125  0.003  0.017  0.036  0.4    21     19   \n",
      "644815   2019/9/9 16:00           125  0.003  0.012  0.038  0.3    15     13   \n",
      "644816   2019/9/9 17:00           125  0.003  0.018  0.029  0.4    14     13   \n",
      "644817   2019/9/9 18:00           125  0.003  0.027  0.022  0.4    13      8   \n",
      "644818   2019/9/9 19:00           125  0.003  0.034  0.012  0.4    16     13   \n",
      "644819   2019/9/9 20:00           125  0.003  0.038  0.007  0.5    25     15   \n",
      "644820   2019/9/9 21:00           125  0.003  0.025  0.015  0.4    20     17   \n",
      "644821   2019/9/9 22:00           125  0.003  0.030  0.008  0.5    20     16   \n",
      "644806    2019/9/9 7:00           125  0.003  0.024  0.006  0.7    48     36   \n",
      "644807    2019/9/9 8:00           125  0.003  0.028  0.005  0.7    48     39   \n",
      "644808    2019/9/9 9:00           125  0.003  0.031  0.007  0.7    47     37   \n",
      "\n",
      "        SO2_level  NO2_level  O3_level  CO_level  PM10_level  PM2.5_level  \n",
      "0           False      False     False     False       False        False  \n",
      "10          False      False     False     False       False        False  \n",
      "11          False      False     False     False       False        False  \n",
      "12          False      False     False     False       False         True  \n",
      "13          False      False     False     False       False         True  \n",
      "14          False      False     False     False       False         True  \n",
      "15          False      False     False     False       False        False  \n",
      "16          False      False     False     False       False        False  \n",
      "17          False      False     False     False       False        False  \n",
      "18          False      False     False     False       False        False  \n",
      "19          False      False     False     False       False        False  \n",
      "1           False      False     False     False       False        False  \n",
      "20          False      False     False     False       False        False  \n",
      "21          False      False     False     False       False        False  \n",
      "22          False      False     False     False       False        False  \n",
      "23          False      False     False     False       False        False  \n",
      "2           False      False     False     False       False        False  \n",
      "3           False      False     False     False       False        False  \n",
      "4           False      False     False     False       False        False  \n",
      "5           False      False     False     False       False        False  \n",
      "6           False      False     False     False       False        False  \n",
      "7           False      False     False     False       False        False  \n",
      "8           False      False     False     False       False        False  \n",
      "9           False      False     False     False       False        False  \n",
      "216         False      False     False     False       False        False  \n",
      "226         False      False     False     False       False        False  \n",
      "227         False      False     False     False       False        False  \n",
      "228         False      False     False     False       False        False  \n",
      "229         False      False     False     False       False        False  \n",
      "230         False      False     False     False       False         True  \n",
      "...           ...        ...       ...       ...         ...          ...  \n",
      "644801      False      False     False     False       False        False  \n",
      "644802      False      False     False     False       False        False  \n",
      "644784      False      False     False     False       False        False  \n",
      "644803      False      False     False     False       False        False  \n",
      "644804      False      False     False     False       False        False  \n",
      "644805      False      False     False     False       False        False  \n",
      "644785      False      False     False     False       False        False  \n",
      "644786      False      False     False     False       False        False  \n",
      "644787      False      False     False     False       False        False  \n",
      "644788      False      False     False     False       False        False  \n",
      "644789      False      False     False     False       False        False  \n",
      "644790      False      False     False     False       False        False  \n",
      "644791      False      False     False     False       False        False  \n",
      "644792      False      False     False     False       False        False  \n",
      "644809      False      False     False     False       False        False  \n",
      "644810      False      False     False     False       False        False  \n",
      "644811      False      False     False     False       False        False  \n",
      "644812      False      False     False     False       False        False  \n",
      "644813      False      False     False     False       False        False  \n",
      "644814      False      False     False     False       False        False  \n",
      "644815      False      False     False     False       False        False  \n",
      "644816      False      False     False     False       False        False  \n",
      "644817      False      False     False     False       False        False  \n",
      "644818      False      False     False     False       False        False  \n",
      "644819      False      False     False     False       False        False  \n",
      "644820      False      False     False     False       False        False  \n",
      "644821      False      False     False     False       False        False  \n",
      "644806      False      False     False     False       False        False  \n",
      "644807      False      False     False     False       False        False  \n",
      "644808      False      False     False     False       False        False  \n",
      "\n",
      "[632447 rows x 14 columns]\n"
     ]
    }
   ],
   "source": [
    "data_cle.sort_values(by=[\"Station code\",\"Measurement date\"],inplace=True,ascending=[True,False])\n",
    "print(data_cle)\n",
    "data_cle.sort_values(by=[\"Station code\",\"Measurement date\"],inplace=True,ascending=[True,True])\n",
    "print(data_cle)"
   ]
  },
  {
   "cell_type": "code",
   "execution_count": 16,
   "metadata": {},
   "outputs": [
    {
     "name": "stdout",
     "output_type": "stream",
     "text": [
      "Station code    1.000000\n",
      "SO2             0.018164\n",
      "NO2             0.006556\n",
      "O3             -0.006357\n",
      "CO             -0.049857\n",
      "PM10            0.029572\n",
      "PM2.5           0.016895\n",
      "SO2_level       0.004701\n",
      "NO2_level       0.001111\n",
      "O3_level        0.001306\n",
      "CO_level        0.001415\n",
      "PM10_level      0.010873\n",
      "PM2.5_level     0.013417\n",
      "Name: Station code, dtype: float64\n",
      "Station code    0.018164\n",
      "SO2             1.000000\n",
      "NO2             0.897131\n",
      "O3              0.749982\n",
      "CO              0.207777\n",
      "PM10            0.043881\n",
      "PM2.5           0.050516\n",
      "SO2_level       0.505175\n",
      "NO2_level       0.657768\n",
      "O3_level        0.175108\n",
      "CO_level        0.167320\n",
      "PM10_level      0.032298\n",
      "PM2.5_level     0.047770\n",
      "Name: SO2, dtype: float64\n",
      "Station code    0.006556\n",
      "SO2             0.897131\n",
      "NO2             1.000000\n",
      "O3              0.713571\n",
      "CO              0.100552\n",
      "PM10            0.039654\n",
      "PM2.5           0.046015\n",
      "SO2_level       0.294066\n",
      "NO2_level       0.691878\n",
      "O3_level        0.146596\n",
      "CO_level       -0.000617\n",
      "PM10_level      0.012375\n",
      "PM2.5_level     0.046022\n",
      "Name: NO2, dtype: float64\n",
      "Station code   -0.006357\n",
      "SO2             0.749982\n",
      "NO2             0.713571\n",
      "O3              1.000000\n",
      "CO             -0.076602\n",
      "PM10            0.002667\n",
      "PM2.5          -0.001987\n",
      "SO2_level       0.269772\n",
      "NO2_level       0.617160\n",
      "O3_level        0.209875\n",
      "CO_level        0.003621\n",
      "PM10_level      0.005106\n",
      "PM2.5_level    -0.014721\n",
      "Name: O3, dtype: float64\n",
      "Station code   -0.049857\n",
      "SO2             0.207777\n",
      "NO2             0.100552\n",
      "O3             -0.076602\n",
      "CO              1.000000\n",
      "PM10            0.154102\n",
      "PM2.5           0.189746\n",
      "SO2_level       0.332416\n",
      "NO2_level       0.000860\n",
      "O3_level        0.052080\n",
      "CO_level        0.563247\n",
      "PM10_level      0.097178\n",
      "PM2.5_level     0.215819\n",
      "Name: CO, dtype: float64\n",
      "Station code    0.029572\n",
      "SO2             0.043881\n",
      "NO2             0.039654\n",
      "O3              0.002667\n",
      "CO              0.154102\n",
      "PM10            1.000000\n",
      "PM2.5           0.223085\n",
      "SO2_level       0.009893\n",
      "NO2_level      -0.000663\n",
      "O3_level        0.005160\n",
      "CO_level        0.009011\n",
      "PM10_level      0.517147\n",
      "PM2.5_level     0.214297\n",
      "Name: PM10, dtype: float64\n",
      "Station code    0.016895\n",
      "SO2             0.050516\n",
      "NO2             0.046015\n",
      "O3             -0.001987\n",
      "CO              0.189746\n",
      "PM10            0.223085\n",
      "PM2.5           1.000000\n",
      "SO2_level       0.011067\n",
      "NO2_level      -0.000687\n",
      "O3_level        0.007905\n",
      "CO_level        0.013183\n",
      "PM10_level      0.176849\n",
      "PM2.5_level     0.479608\n",
      "Name: PM2.5, dtype: float64\n",
      "Station code    0.004701\n",
      "SO2             0.505175\n",
      "NO2             0.294066\n",
      "O3              0.269772\n",
      "CO              0.332416\n",
      "PM10            0.009893\n",
      "PM2.5           0.011067\n",
      "SO2_level       1.000000\n",
      "NO2_level       0.245239\n",
      "O3_level        0.131479\n",
      "CO_level        0.592327\n",
      "PM10_level      0.010614\n",
      "PM2.5_level     0.006128\n",
      "Name: SO2_level, dtype: float64\n",
      "Station code    0.001111\n",
      "SO2             0.657768\n",
      "NO2             0.691878\n",
      "O3              0.617160\n",
      "CO              0.000860\n",
      "PM10           -0.000663\n",
      "PM2.5          -0.000687\n",
      "SO2_level       0.245239\n",
      "NO2_level       1.000000\n",
      "O3_level        0.122592\n",
      "CO_level       -0.000023\n",
      "PM10_level     -0.000360\n",
      "PM2.5_level    -0.000563\n",
      "Name: NO2_level, dtype: float64\n",
      "Station code    0.001306\n",
      "SO2             0.175108\n",
      "NO2             0.146596\n",
      "O3              0.209875\n",
      "CO              0.052080\n",
      "PM10            0.005160\n",
      "PM2.5           0.007905\n",
      "SO2_level       0.131479\n",
      "NO2_level       0.122592\n",
      "O3_level        1.000000\n",
      "CO_level        0.059137\n",
      "PM10_level      0.003096\n",
      "PM2.5_level     0.002957\n",
      "Name: O3_level, dtype: float64\n",
      "Station code    0.001415\n",
      "SO2             0.167320\n",
      "NO2            -0.000617\n",
      "O3              0.003621\n",
      "CO              0.563247\n",
      "PM10            0.009011\n",
      "PM2.5           0.013183\n",
      "SO2_level       0.592327\n",
      "NO2_level      -0.000023\n",
      "O3_level        0.059137\n",
      "CO_level        1.000000\n",
      "PM10_level      0.014293\n",
      "PM2.5_level     0.007208\n",
      "Name: CO_level, dtype: float64\n",
      "Station code    0.010873\n",
      "SO2             0.032298\n",
      "NO2             0.012375\n",
      "O3              0.005106\n",
      "CO              0.097178\n",
      "PM10            0.517147\n",
      "PM2.5           0.176849\n",
      "SO2_level       0.010614\n",
      "NO2_level      -0.000360\n",
      "O3_level        0.003096\n",
      "CO_level        0.014293\n",
      "PM10_level      1.000000\n",
      "PM2.5_level     0.305637\n",
      "Name: PM10_level, dtype: float64\n",
      "Station code    0.013417\n",
      "SO2             0.047770\n",
      "NO2             0.046022\n",
      "O3             -0.014721\n",
      "CO              0.215819\n",
      "PM10            0.214297\n",
      "PM2.5           0.479608\n",
      "SO2_level       0.006128\n",
      "NO2_level      -0.000563\n",
      "O3_level        0.002957\n",
      "CO_level        0.007208\n",
      "PM10_level      0.305637\n",
      "PM2.5_level     1.000000\n",
      "Name: PM2.5_level, dtype: float64\n"
     ]
    }
   ],
   "source": [
    "print(data_cle.corr()[\"Station code\"])\n",
    "print(data_cle.corr()[\"SO2\"])\n",
    "print(data_cle.corr()[\"NO2\"])\n",
    "print(data_cle.corr()[\"O3\"])\n",
    "print(data_cle.corr()[\"CO\"])\n",
    "print(data_cle.corr()[\"PM10\"])\n",
    "print(data_cle.corr()[\"PM2.5\"])\n",
    "print(data_cle.corr()[\"SO2_level\"])\n",
    "print(data_cle.corr()[\"NO2_level\"])\n",
    "print(data_cle.corr()[\"O3_level\"])\n",
    "print(data_cle.corr()[\"CO_level\"])\n",
    "print(data_cle.corr()[\"PM10_level\"])\n",
    "print(data_cle.corr()[\"PM2.5_level\"])"
   ]
  },
  {
   "cell_type": "code",
   "execution_count": 17,
   "metadata": {},
   "outputs": [],
   "source": [
    "data_SO2 = data_cle[[\"Measurement date\",\"Station code\",\"SO2\",\"NO2\",\"O3\",\"CO\",\"PM10\",\"PM2.5\",\"SO2_level\"]]\n",
    "data_NO2 = data_cle[[\"Measurement date\",\"Station code\",\"SO2\",\"NO2\",\"O3\",\"CO\",\"PM10\",\"PM2.5\",\"NO2_level\"]]\n",
    "data_O3 = data_cle[[\"Measurement date\",\"Station code\",\"SO2\",\"NO2\",\"O3\",\"CO\",\"PM10\",\"PM2.5\",\"O3_level\"]]\n",
    "data_CO = data_cle[[\"Measurement date\",\"Station code\",\"SO2\",\"NO2\",\"O3\",\"CO\",\"PM10\",\"PM2.5\",\"CO_level\"]]\n",
    "data_PM10 = data_cle[[\"Measurement date\",\"Station code\",\"SO2\",\"NO2\",\"O3\",\"CO\",\"PM10\",\"PM2.5\",\"PM10_level\"]]\n",
    "data_PM2_5 = data_cle[[\"Measurement date\",\"Station code\",\"SO2\",\"NO2\",\"O3\",\"CO\",\"PM10\",\"PM2.5\",\"PM2.5_level\"]]"
   ]
  },
  {
   "cell_type": "code",
   "execution_count": 18,
   "metadata": {},
   "outputs": [
    {
     "name": "stdout",
     "output_type": "stream",
     "text": [
      "       Measurement date  Station code    SO2    NO2     O3   CO  PM10  PM2.5  \\\n",
      "0         2017/1/1 0:00           101  0.004  0.059  0.002  1.2    73     57   \n",
      "10       2017/1/1 10:00           101  0.004  0.045  0.004  1.0    76     68   \n",
      "11       2017/1/1 11:00           101  0.004  0.048  0.005  1.0    83     74   \n",
      "12       2017/1/1 12:00           101  0.004  0.054  0.005  1.0    93     79   \n",
      "13       2017/1/1 13:00           101  0.005  0.050  0.007  1.0    94     79   \n",
      "14       2017/1/1 14:00           101  0.006  0.055  0.008  0.9    93     78   \n",
      "15       2017/1/1 15:00           101  0.006  0.056  0.008  0.8    87     69   \n",
      "16       2017/1/1 16:00           101  0.006  0.063  0.004  0.9    87     69   \n",
      "17       2017/1/1 17:00           101  0.005  0.063  0.002  0.9    91     72   \n",
      "18       2017/1/1 18:00           101  0.005  0.063  0.002  1.0    91     69   \n",
      "19       2017/1/1 19:00           101  0.005  0.062  0.002  1.0    92     70   \n",
      "1         2017/1/1 1:00           101  0.004  0.058  0.002  1.2    71     59   \n",
      "20       2017/1/1 20:00           101  0.004  0.056  0.002  0.9    94     74   \n",
      "21       2017/1/1 21:00           101  0.004  0.058  0.002  0.9    93     74   \n",
      "22       2017/1/1 22:00           101  0.004  0.058  0.002  1.0    89     73   \n",
      "23       2017/1/1 23:00           101  0.004  0.057  0.002  1.0    91     72   \n",
      "2         2017/1/1 2:00           101  0.004  0.056  0.002  1.2    70     59   \n",
      "3         2017/1/1 3:00           101  0.004  0.056  0.002  1.2    70     58   \n",
      "4         2017/1/1 4:00           101  0.003  0.051  0.002  1.2    69     61   \n",
      "5         2017/1/1 5:00           101  0.003  0.046  0.002  1.1    70     61   \n",
      "6         2017/1/1 6:00           101  0.003  0.049  0.002  1.1    66     57   \n",
      "7         2017/1/1 7:00           101  0.003  0.045  0.002  1.0    71     60   \n",
      "8         2017/1/1 8:00           101  0.004  0.047  0.002  1.1    72     60   \n",
      "9         2017/1/1 9:00           101  0.003  0.047  0.002  1.1    74     63   \n",
      "216      2017/1/10 0:00           101  0.004  0.026  0.019  0.5    44     34   \n",
      "226     2017/1/10 10:00           101  0.005  0.024  0.022  0.4    30     15   \n",
      "227     2017/1/10 11:00           101  0.005  0.027  0.020  0.5    36     19   \n",
      "228     2017/1/10 12:00           101  0.005  0.018  0.029  0.4    35     21   \n",
      "229     2017/1/10 13:00           101  0.004  0.016  0.030  0.4    35     19   \n",
      "230     2017/1/10 14:00           101  0.051  0.007  0.014  6.0   143    149   \n",
      "...                 ...           ...    ...    ...    ...  ...   ...    ...   \n",
      "644801   2019/9/6 18:00           125  0.003  0.027  0.009  0.5    20     13   \n",
      "644802   2019/9/6 19:00           125  0.003  0.026  0.009  0.4    19     14   \n",
      "644784    2019/9/6 1:00           125  0.002  0.022  0.004  0.4     7      3   \n",
      "644803   2019/9/6 20:00           125  0.003  0.023  0.009  0.4    17     14   \n",
      "644804   2019/9/6 21:00           125  0.003  0.026  0.004  0.4    26     16   \n",
      "644805   2019/9/6 22:00           125  0.003  0.022  0.005  0.4    21     16   \n",
      "644785    2019/9/6 2:00           125  0.003  0.018  0.005  0.3     7      1   \n",
      "644786    2019/9/6 3:00           125  0.003  0.016  0.006  0.3     7      2   \n",
      "644787    2019/9/6 4:00           125  0.002  0.012  0.008  0.3     5      1   \n",
      "644788    2019/9/6 5:00           125  0.003  0.016  0.006  0.3     6      3   \n",
      "644789    2019/9/6 6:00           125  0.003  0.018  0.006  0.3     4      2   \n",
      "644790    2019/9/6 7:00           125  0.003  0.019  0.006  0.3     6      2   \n",
      "644791    2019/9/6 8:00           125  0.003  0.016  0.008  0.3     4      1   \n",
      "644792    2019/9/6 9:00           125  0.003  0.013  0.011  0.3     8      3   \n",
      "644809   2019/9/9 10:00           125  0.003  0.024  0.014  0.6    42     35   \n",
      "644810   2019/9/9 11:00           125  0.003  0.018  0.028  0.5    32     28   \n",
      "644811   2019/9/9 12:00           125  0.003  0.010  0.045  0.4    13     21   \n",
      "644812   2019/9/9 13:00           125  0.003  0.009  0.045  0.4    15     18   \n",
      "644813   2019/9/9 14:00           125  0.003  0.014  0.042  0.4    16     15   \n",
      "644814   2019/9/9 15:00           125  0.003  0.017  0.036  0.4    21     19   \n",
      "644815   2019/9/9 16:00           125  0.003  0.012  0.038  0.3    15     13   \n",
      "644816   2019/9/9 17:00           125  0.003  0.018  0.029  0.4    14     13   \n",
      "644817   2019/9/9 18:00           125  0.003  0.027  0.022  0.4    13      8   \n",
      "644818   2019/9/9 19:00           125  0.003  0.034  0.012  0.4    16     13   \n",
      "644819   2019/9/9 20:00           125  0.003  0.038  0.007  0.5    25     15   \n",
      "644820   2019/9/9 21:00           125  0.003  0.025  0.015  0.4    20     17   \n",
      "644821   2019/9/9 22:00           125  0.003  0.030  0.008  0.5    20     16   \n",
      "644806    2019/9/9 7:00           125  0.003  0.024  0.006  0.7    48     36   \n",
      "644807    2019/9/9 8:00           125  0.003  0.028  0.005  0.7    48     39   \n",
      "644808    2019/9/9 9:00           125  0.003  0.031  0.007  0.7    47     37   \n",
      "\n",
      "        SO2_level  NO2_level  O3_level  CO_level  PM10_level  PM2.5_level  \\\n",
      "0           False      False     False     False       False        False   \n",
      "10          False      False     False     False       False        False   \n",
      "11          False      False     False     False       False        False   \n",
      "12          False      False     False     False       False         True   \n",
      "13          False      False     False     False       False         True   \n",
      "14          False      False     False     False       False         True   \n",
      "15          False      False     False     False       False        False   \n",
      "16          False      False     False     False       False        False   \n",
      "17          False      False     False     False       False        False   \n",
      "18          False      False     False     False       False        False   \n",
      "19          False      False     False     False       False        False   \n",
      "1           False      False     False     False       False        False   \n",
      "20          False      False     False     False       False        False   \n",
      "21          False      False     False     False       False        False   \n",
      "22          False      False     False     False       False        False   \n",
      "23          False      False     False     False       False        False   \n",
      "2           False      False     False     False       False        False   \n",
      "3           False      False     False     False       False        False   \n",
      "4           False      False     False     False       False        False   \n",
      "5           False      False     False     False       False        False   \n",
      "6           False      False     False     False       False        False   \n",
      "7           False      False     False     False       False        False   \n",
      "8           False      False     False     False       False        False   \n",
      "9           False      False     False     False       False        False   \n",
      "216         False      False     False     False       False        False   \n",
      "226         False      False     False     False       False        False   \n",
      "227         False      False     False     False       False        False   \n",
      "228         False      False     False     False       False        False   \n",
      "229         False      False     False     False       False        False   \n",
      "230         False      False     False     False       False         True   \n",
      "...           ...        ...       ...       ...         ...          ...   \n",
      "644801      False      False     False     False       False        False   \n",
      "644802      False      False     False     False       False        False   \n",
      "644784      False      False     False     False       False        False   \n",
      "644803      False      False     False     False       False        False   \n",
      "644804      False      False     False     False       False        False   \n",
      "644805      False      False     False     False       False        False   \n",
      "644785      False      False     False     False       False        False   \n",
      "644786      False      False     False     False       False        False   \n",
      "644787      False      False     False     False       False        False   \n",
      "644788      False      False     False     False       False        False   \n",
      "644789      False      False     False     False       False        False   \n",
      "644790      False      False     False     False       False        False   \n",
      "644791      False      False     False     False       False        False   \n",
      "644792      False      False     False     False       False        False   \n",
      "644809      False      False     False     False       False        False   \n",
      "644810      False      False     False     False       False        False   \n",
      "644811      False      False     False     False       False        False   \n",
      "644812      False      False     False     False       False        False   \n",
      "644813      False      False     False     False       False        False   \n",
      "644814      False      False     False     False       False        False   \n",
      "644815      False      False     False     False       False        False   \n",
      "644816      False      False     False     False       False        False   \n",
      "644817      False      False     False     False       False        False   \n",
      "644818      False      False     False     False       False        False   \n",
      "644819      False      False     False     False       False        False   \n",
      "644820      False      False     False     False       False        False   \n",
      "644821      False      False     False     False       False        False   \n",
      "644806      False      False     False     False       False        False   \n",
      "644807      False      False     False     False       False        False   \n",
      "644808      False      False     False     False       False        False   \n",
      "\n",
      "         log_SO2   log_NO2    log_O3    log_CO  log_PM10  log_PM2.5  \n",
      "0      -5.521461 -2.830218 -6.214608  0.182322  4.290459   4.043051  \n",
      "10     -5.521461 -3.101093 -5.521461  0.000000  4.330733   4.219508  \n",
      "11     -5.521461 -3.036554 -5.298317  0.000000  4.418841   4.304065  \n",
      "12     -5.521461 -2.918771 -5.298317  0.000000  4.532599   4.369448  \n",
      "13     -5.298317 -2.995732 -4.961845  0.000000  4.543295   4.369448  \n",
      "14     -5.115996 -2.900422 -4.828314 -0.105361  4.532599   4.356709  \n",
      "15     -5.115996 -2.882404 -4.828314 -0.223144  4.465908   4.234107  \n",
      "16     -5.115996 -2.764621 -5.521461 -0.105361  4.465908   4.234107  \n",
      "17     -5.298317 -2.764621 -6.214608 -0.105361  4.510860   4.276666  \n",
      "18     -5.298317 -2.764621 -6.214608  0.000000  4.510860   4.234107  \n",
      "19     -5.298317 -2.780621 -6.214608  0.000000  4.521789   4.248495  \n",
      "1      -5.521461 -2.847312 -6.214608  0.182322  4.262680   4.077537  \n",
      "20     -5.521461 -2.882404 -6.214608 -0.105361  4.543295   4.304065  \n",
      "21     -5.521461 -2.847312 -6.214608 -0.105361  4.532599   4.304065  \n",
      "22     -5.521461 -2.847312 -6.214608  0.000000  4.488636   4.290459  \n",
      "23     -5.521461 -2.864704 -6.214608  0.000000  4.510860   4.276666  \n",
      "2      -5.521461 -2.882404 -6.214608  0.182322  4.248495   4.077537  \n",
      "3      -5.521461 -2.882404 -6.214608  0.182322  4.248495   4.060443  \n",
      "4      -5.809143 -2.975930 -6.214608  0.182322  4.234107   4.110874  \n",
      "5      -5.809143 -3.079114 -6.214608  0.095310  4.248495   4.110874  \n",
      "6      -5.809143 -3.015935 -6.214608  0.095310  4.189655   4.043051  \n",
      "7      -5.809143 -3.101093 -6.214608  0.000000  4.262680   4.094345  \n",
      "8      -5.521461 -3.057608 -6.214608  0.095310  4.276666   4.094345  \n",
      "9      -5.809143 -3.057608 -6.214608  0.095310  4.304065   4.143135  \n",
      "216    -5.521461 -3.649659 -3.963316 -0.693147  3.784190   3.526361  \n",
      "226    -5.298317 -3.729701 -3.816713 -0.916291  3.401197   2.708050  \n",
      "227    -5.298317 -3.611918 -3.912023 -0.693147  3.583519   2.944439  \n",
      "228    -5.298317 -4.017384 -3.540459 -0.916291  3.555348   3.044522  \n",
      "229    -5.521461 -4.135167 -3.506558 -0.916291  3.555348   2.944439  \n",
      "230    -2.975930 -4.961845 -4.268698  1.791759  4.962845   5.003946  \n",
      "...          ...       ...       ...       ...       ...        ...  \n",
      "644801 -5.809143 -3.611918 -4.710531 -0.693147  2.995732   2.564949  \n",
      "644802 -5.809143 -3.649659 -4.710531 -0.916291  2.944439   2.639057  \n",
      "644784 -6.214608 -3.816713 -5.521461 -0.916291  1.945910   1.098612  \n",
      "644803 -5.809143 -3.772261 -4.710531 -0.916291  2.833213   2.639057  \n",
      "644804 -5.809143 -3.649659 -5.521461 -0.916291  3.258097   2.772589  \n",
      "644805 -5.809143 -3.816713 -5.298317 -0.916291  3.044522   2.772589  \n",
      "644785 -5.809143 -4.017384 -5.298317 -1.203973  1.945910   0.000000  \n",
      "644786 -5.809143 -4.135167 -5.115996 -1.203973  1.945910   0.693147  \n",
      "644787 -6.214608 -4.422849 -4.828314 -1.203973  1.609438   0.000000  \n",
      "644788 -5.809143 -4.135167 -5.115996 -1.203973  1.791759   1.098612  \n",
      "644789 -5.809143 -4.017384 -5.115996 -1.203973  1.386294   0.693147  \n",
      "644790 -5.809143 -3.963316 -5.115996 -1.203973  1.791759   0.693147  \n",
      "644791 -5.809143 -4.135167 -4.828314 -1.203973  1.386294   0.000000  \n",
      "644792 -5.809143 -4.342806 -4.509860 -1.203973  2.079442   1.098612  \n",
      "644809 -5.809143 -3.729701 -4.268698 -0.510826  3.737670   3.555348  \n",
      "644810 -5.809143 -4.017384 -3.575551 -0.693147  3.465736   3.332205  \n",
      "644811 -5.809143 -4.605170 -3.101093 -0.916291  2.564949   3.044522  \n",
      "644812 -5.809143 -4.710531 -3.101093 -0.916291  2.708050   2.890372  \n",
      "644813 -5.809143 -4.268698 -3.170086 -0.916291  2.772589   2.708050  \n",
      "644814 -5.809143 -4.074542 -3.324236 -0.916291  3.044522   2.944439  \n",
      "644815 -5.809143 -4.422849 -3.270169 -1.203973  2.708050   2.564949  \n",
      "644816 -5.809143 -4.017384 -3.540459 -0.916291  2.639057   2.564949  \n",
      "644817 -5.809143 -3.611918 -3.816713 -0.916291  2.564949   2.079442  \n",
      "644818 -5.809143 -3.381395 -4.422849 -0.916291  2.772589   2.564949  \n",
      "644819 -5.809143 -3.270169 -4.961845 -0.693147  3.218876   2.708050  \n",
      "644820 -5.809143 -3.688879 -4.199705 -0.916291  2.995732   2.833213  \n",
      "644821 -5.809143 -3.506558 -4.828314 -0.693147  2.995732   2.772589  \n",
      "644806 -5.809143 -3.729701 -5.115996 -0.356675  3.871201   3.583519  \n",
      "644807 -5.809143 -3.575551 -5.298317 -0.356675  3.871201   3.663562  \n",
      "644808 -5.809143 -3.473768 -4.961845 -0.356675  3.850148   3.610918  \n",
      "\n",
      "[632447 rows x 20 columns]\n"
     ]
    },
    {
     "data": {
      "text/plain": [
       "(array([1.28620e+04, 3.65700e+04, 1.44982e+05, 3.01913e+05, 1.21861e+05,\n",
       "        1.30630e+04, 1.51000e+02, 1.04400e+03, 0.00000e+00, 1.00000e+00]),\n",
       " array([0.        , 0.87412963, 1.74825926, 2.62238888, 3.49651851,\n",
       "        4.37064814, 5.24477777, 6.1189074 , 6.99303703, 7.86716665,\n",
       "        8.74129628]),\n",
       " <a list of 10 Patch objects>)"
      ]
     },
     "execution_count": 18,
     "metadata": {},
     "output_type": "execute_result"
    },
    {
     "data": {
      "image/png": "[encoded data removed]",
      "text/plain": [
       "<Figure size 432x288 with 1 Axes>"
      ]
     },
     "metadata": {},
     "output_type": "display_data"
    }
   ],
   "source": [
    "data_cle[\"log_SO2\"]=numpy.log(data_cle[\"SO2\"])\n",
    "data_cle[\"log_NO2\"]=numpy.log(data_cle[\"NO2\"]) \n",
    "data_cle[\"log_O3\"]=numpy.log(data_cle[\"O3\"]) \n",
    "data_cle[\"log_CO\"]=numpy.log(data_cle[\"CO\"]) \n",
    "data_cle[\"log_PM10\"]=numpy.log(data_cle[\"PM10\"]) \n",
    "data_cle[\"log_PM2.5\"]=numpy.log(data_cle[\"PM2.5\"])\n",
    "\n",
    "print(data_cle)\n",
    "\n",
    "plt.hist(data_cle[\"log_SO2\"])\n",
    "plt.hist(data_cle[\"log_NO2\"])\n",
    "plt.hist(data_cle[\"log_O3\"])\n",
    "plt.hist(data_cle[\"log_CO\"])\n",
    "plt.hist(data_cle[\"log_PM10\"])\n",
    "plt.hist(data_cle[\"log_PM2.5\"])"
   ]
  },
  {
   "cell_type": "code",
   "execution_count": null,
   "metadata": {},
   "outputs": [],
   "source": [
    "data_cle = data_cle[[\"Measurement date\",\"Station code\",\n",
    "                     \"log_SO2\",\"log_NO2\",\"log_O3\",\"log_CO\",\"log_PM10\",\"log_PM2.5\",\n",
    "                     \"SO2_level\",\"NO2_level\",\"O3_level\",\"CO_level\",\"PM10_level\",\"PM2.5_level\"]]\n",
    "\n",
    "outputpath='./data_cle.csv'\n",
    "data_cle.to_csv(outputpath,sep=',',index=False,header=True)"
   ]
  },
  {
   "cell_type": "code",
   "execution_count": 22,
   "metadata": {},
   "outputs": [],
   "source": [
    "import findspark\n",
    "findspark.init('/home/ubuntu/spark-2.1.1-bin-hadoop2.7')\n",
    "import pyspark\n",
    "from pyspark.sql import SparkSession\n",
    "spark = SparkSession.builder.appName('linear_regression_adv').getOrCreate()\n",
    "from pyspark.ml.regression import LinearRegression"
   ]
  },
  {
   "cell_type": "code",
   "execution_count": 23,
   "metadata": {},
   "outputs": [],
   "source": [
    "data_mining = spark.read.csv('./data_cle.csv', header=True, inferSchema=True)"
   ]
  },
  {
   "cell_type": "code",
   "execution_count": 24,
   "metadata": {
    "scrolled": true
   },
   "outputs": [
    {
     "name": "stdout",
     "output_type": "stream",
     "text": [
      "+----------------+------------+------------------+-------------------+-------------------+--------------------+------------------+------------------+---------+---------+--------+--------+----------+-----------+\n",
      "|Measurement date|Station code|           log_SO2|            log_NO2|             log_O3|              log_CO|          log_PM10|         log_PM2.5|SO2_level|NO2_level|O3_level|CO_level|PM10_level|PM2.5_level|\n",
      "+----------------+------------+------------------+-------------------+-------------------+--------------------+------------------+------------------+---------+---------+--------+--------+----------+-----------+\n",
      "|   2017/1/1 0:00|         101|-5.521460917862246|-2.8302178350764176| -6.214608098422191|  0.1823215567939546| 4.290459441148391|  4.04305126783455|    false|    false|   false|   false|     false|      false|\n",
      "|  2017/1/1 10:00|         101|-5.521460917862246| -3.101092789211817| -5.521460917862246|                 0.0| 4.330733340286331| 4.219507705176107|    false|    false|   false|   false|     false|      false|\n",
      "|  2017/1/1 11:00|         101|-5.521460917862246| -3.036554268074246| -5.298317366548036|                 0.0| 4.418840607796598|  4.30406509320417|    false|    false|   false|   false|     false|      false|\n",
      "|  2017/1/1 12:00|         101|-5.521460917862246|-2.9187712324178627| -5.298317366548036|                 0.0| 4.532599493153256|4.3694478524670215|    false|    false|   false|   false|     false|       true|\n",
      "|  2017/1/1 13:00|         101|-5.298317366548036| -2.995732273553991| -4.961845129926824|                 0.0| 4.543294782270004|4.3694478524670215|    false|    false|   false|   false|     false|       true|\n",
      "|  2017/1/1 14:00|         101|-5.115995809754082| -2.900422093749666|-4.8283137373023015|-0.10536051565782628| 4.532599493153256| 4.356708826689592|    false|    false|   false|   false|     false|       true|\n",
      "|  2017/1/1 15:00|         101|-5.115995809754082| -2.882403588246988|-4.8283137373023015| -0.2231435513142097| 4.465908118654584|  4.23410650459726|    false|    false|   false|   false|     false|      false|\n",
      "|  2017/1/1 16:00|         101|-5.115995809754082|-2.7646205525906042| -5.521460917862246|-0.10536051565782628| 4.465908118654584|  4.23410650459726|    false|    false|   false|   false|     false|      false|\n",
      "|  2017/1/1 17:00|         101|-5.298317366548036|-2.7646205525906042| -6.214608098422191|-0.10536051565782628|  4.51085950651685| 4.276666119016055|    false|    false|   false|   false|     false|      false|\n",
      "|  2017/1/1 18:00|         101|-5.298317366548036|-2.7646205525906042| -6.214608098422191|                 0.0|  4.51085950651685|  4.23410650459726|    false|    false|   false|   false|     false|      false|\n",
      "|  2017/1/1 19:00|         101|-5.298317366548036|-2.7806208939370456| -6.214608098422191|                 0.0|4.5217885770490405| 4.248495242049359|    false|    false|   false|   false|     false|      false|\n",
      "|   2017/1/1 1:00|         101|-5.521460917862246|-2.8473122684357177| -6.214608098422191|  0.1823215567939546|4.2626798770413155|  4.07753744390572|    false|    false|   false|   false|     false|      false|\n",
      "|  2017/1/1 20:00|         101|-5.521460917862246| -2.882403588246988| -6.214608098422191|-0.10536051565782628| 4.543294782270004|  4.30406509320417|    false|    false|   false|   false|     false|      false|\n",
      "|  2017/1/1 21:00|         101|-5.521460917862246|-2.8473122684357177| -6.214608098422191|-0.10536051565782628| 4.532599493153256|  4.30406509320417|    false|    false|   false|   false|     false|      false|\n",
      "|  2017/1/1 22:00|         101|-5.521460917862246|-2.8473122684357177| -6.214608098422191|                 0.0|  4.48863636973214| 4.290459441148391|    false|    false|   false|   false|     false|      false|\n",
      "|  2017/1/1 23:00|         101|-5.521460917862246| -2.864704011147587| -6.214608098422191|                 0.0|  4.51085950651685| 4.276666119016055|    false|    false|   false|   false|     false|      false|\n",
      "|   2017/1/1 2:00|         101|-5.521460917862246| -2.882403588246988| -6.214608098422191|  0.1823215567939546| 4.248495242049359|  4.07753744390572|    false|    false|   false|   false|     false|      false|\n",
      "|   2017/1/1 3:00|         101|-5.521460917862246| -2.882403588246988| -6.214608098422191|  0.1823215567939546| 4.248495242049359| 4.060443010546419|    false|    false|   false|   false|     false|      false|\n",
      "|   2017/1/1 4:00|         101|-5.809142990314028|-2.9759296462578115| -6.214608098422191|  0.1823215567939546|  4.23410650459726| 4.110873864173311|    false|    false|   false|   false|     false|      false|\n",
      "|   2017/1/1 5:00|         101|-5.809142990314028| -3.079113882493042| -6.214608098422191| 0.09531017980432493| 4.248495242049359| 4.110873864173311|    false|    false|   false|   false|     false|      false|\n",
      "+----------------+------------+------------------+-------------------+-------------------+--------------------+------------------+------------------+---------+---------+--------+--------+----------+-----------+\n",
      "only showing top 20 rows\n",
      "\n"
     ]
    }
   ],
   "source": [
    "data_mining.show()"
   ]
  },
  {
   "cell_type": "code",
   "execution_count": 7,
   "metadata": {},
   "outputs": [
    {
     "name": "stdout",
     "output_type": "stream",
     "text": [
      "root\n",
      " |-- Measurement date: string (nullable = true)\n",
      " |-- Station code: integer (nullable = true)\n",
      " |-- log_SO2: double (nullable = true)\n",
      " |-- log_NO2: double (nullable = true)\n",
      " |-- log_O3: double (nullable = true)\n",
      " |-- log_CO: double (nullable = true)\n",
      " |-- log_PM10: double (nullable = true)\n",
      " |-- log_PM2.5: double (nullable = true)\n",
      " |-- SO2_level: boolean (nullable = true)\n",
      " |-- NO2_level: boolean (nullable = true)\n",
      " |-- O3_level: boolean (nullable = true)\n",
      " |-- CO_level: boolean (nullable = true)\n",
      " |-- PM10_level: boolean (nullable = true)\n",
      " |-- PM2.5_level: boolean (nullable = true)\n",
      "\n"
     ]
    }
   ],
   "source": [
    "data_mining.printSchema()"
   ]
  },
  {
   "cell_type": "code",
   "execution_count": 8,
   "metadata": {},
   "outputs": [],
   "source": [
    "from pyspark.ml.linalg import Vectors\n",
    "from pyspark.ml.feature import VectorAssembler\n",
    "from pyspark.ml.regression import LinearRegression"
   ]
  },
  {
   "cell_type": "code",
   "execution_count": 25,
   "metadata": {},
   "outputs": [],
   "source": [
    "assembler = VectorAssembler(\n",
    "    inputCols=[\"Station code\",\"log_SO2\",\"log_NO2\",\"log_O3\",\"log_CO\",\"log_PM10\"],\n",
    "    outputCol=\"features\")"
   ]
  },
  {
   "cell_type": "code",
   "execution_count": 26,
   "metadata": {},
   "outputs": [],
   "source": [
    "output = assembler.transform(data_mining)"
   ]
  },
  {
   "cell_type": "code",
   "execution_count": 27,
   "metadata": {},
   "outputs": [
    {
     "name": "stdout",
     "output_type": "stream",
     "text": [
      "+--------------------+------------------+\n",
      "|            features|           log_SO2|\n",
      "+--------------------+------------------+\n",
      "|[101.0,-5.5214609...|-5.521460917862246|\n",
      "|[101.0,-5.5214609...|-5.521460917862246|\n",
      "|[101.0,-5.5214609...|-5.521460917862246|\n",
      "|[101.0,-5.5214609...|-5.521460917862246|\n",
      "|[101.0,-5.2983173...|-5.298317366548036|\n",
      "|[101.0,-5.1159958...|-5.115995809754082|\n",
      "|[101.0,-5.1159958...|-5.115995809754082|\n",
      "|[101.0,-5.1159958...|-5.115995809754082|\n",
      "|[101.0,-5.2983173...|-5.298317366548036|\n",
      "|[101.0,-5.2983173...|-5.298317366548036|\n",
      "|[101.0,-5.2983173...|-5.298317366548036|\n",
      "|[101.0,-5.5214609...|-5.521460917862246|\n",
      "|[101.0,-5.5214609...|-5.521460917862246|\n",
      "|[101.0,-5.5214609...|-5.521460917862246|\n",
      "|[101.0,-5.5214609...|-5.521460917862246|\n",
      "|[101.0,-5.5214609...|-5.521460917862246|\n",
      "|[101.0,-5.5214609...|-5.521460917862246|\n",
      "|[101.0,-5.5214609...|-5.521460917862246|\n",
      "|[101.0,-5.8091429...|-5.809142990314028|\n",
      "|[101.0,-5.8091429...|-5.809142990314028|\n",
      "+--------------------+------------------+\n",
      "only showing top 20 rows\n",
      "\n"
     ]
    }
   ],
   "source": [
    "final_data = output.select(\"features\",\"log_SO2\")\n",
    "final_data.show()"
   ]
  },
  {
   "cell_type": "code",
   "execution_count": 12,
   "metadata": {},
   "outputs": [],
   "source": [
    "data_train, data_test = final_data.randomSplit([0.7,0.3])"
   ]
  },
  {
   "cell_type": "code",
   "execution_count": 13,
   "metadata": {},
   "outputs": [
    {
     "name": "stdout",
     "output_type": "stream",
     "text": [
      "+-------+-------------------+\n",
      "|summary|            log_SO2|\n",
      "+-------+-------------------+\n",
      "|  count|             442233|\n",
      "|   mean|-5.5141325745240914|\n",
      "| stddev|0.39228756673642523|\n",
      "|    min| -6.907755278982137|\n",
      "|    max| 1.3180155203665962|\n",
      "+-------+-------------------+\n",
      "\n",
      "+-------+-------------------+\n",
      "|summary|            log_SO2|\n",
      "+-------+-------------------+\n",
      "|  count|             190214|\n",
      "|   mean| -5.513438869339184|\n",
      "| stddev| 0.3913843177097016|\n",
      "|    min| -6.907755278982137|\n",
      "|    max|-0.9014021193804044|\n",
      "+-------+-------------------+\n",
      "\n"
     ]
    }
   ],
   "source": [
    "data_train.describe().show()\n",
    "data_test.describe().show()"
   ]
  },
  {
   "cell_type": "code",
   "execution_count": 13,
   "metadata": {},
   "outputs": [],
   "source": [
    "lr = LinearRegression(labelCol='log_SO2')"
   ]
  },
  {
   "cell_type": "code",
   "execution_count": 14,
   "metadata": {},
   "outputs": [],
   "source": [
    "lrModel = lr.fit(data_train)"
   ]
  },
  {
   "cell_type": "code",
   "execution_count": 15,
   "metadata": {},
   "outputs": [
    {
     "name": "stdout",
     "output_type": "stream",
     "text": [
      "Coefficients: [-6.152208575058729e-18,1.0000000000000002,8.198269512194551e-17,3.361651491200716e-17,-1.395572406544356e-17,-6.396050345178826e-17] Intercept: 2.055704010347605e-15\n"
     ]
    }
   ],
   "source": [
    "print(\"Coefficients: {} Intercept: {}\".format(lrModel.coefficients,lrModel.intercept))"
   ]
  },
  {
   "cell_type": "code",
   "execution_count": 16,
   "metadata": {},
   "outputs": [],
   "source": [
    "test_results = lrModel.evaluate(data_test)"
   ]
  },
  {
   "cell_type": "code",
   "execution_count": 17,
   "metadata": {},
   "outputs": [
    {
     "name": "stdout",
     "output_type": "stream",
     "text": [
      "+--------------------+\n",
      "|           residuals|\n",
      "+--------------------+\n",
      "|8.881784197001252...|\n",
      "|8.881784197001252...|\n",
      "|8.881784197001252...|\n",
      "|8.881784197001252...|\n",
      "|8.881784197001252...|\n",
      "|8.881784197001252...|\n",
      "|8.881784197001252...|\n",
      "|8.881784197001252...|\n",
      "|8.881784197001252...|\n",
      "|8.881784197001252...|\n",
      "|8.881784197001252...|\n",
      "|8.881784197001252...|\n",
      "|8.881784197001252...|\n",
      "|8.881784197001252...|\n",
      "|8.881784197001252...|\n",
      "|8.881784197001252...|\n",
      "|8.881784197001252...|\n",
      "|8.881784197001252...|\n",
      "|8.881784197001252...|\n",
      "|8.881784197001252...|\n",
      "+--------------------+\n",
      "only showing top 20 rows\n",
      "\n",
      "RSME: 2.918651780898535e-16\n"
     ]
    }
   ],
   "source": [
    "test_results.residuals.show()\n",
    "print(\"RSME: {}\".format(test_results.rootMeanSquaredError))"
   ]
  },
  {
   "cell_type": "code",
   "execution_count": 18,
   "metadata": {},
   "outputs": [
    {
     "name": "stdout",
     "output_type": "stream",
     "text": [
      "R2: 1.0\n"
     ]
    }
   ],
   "source": [
    "print(\"R2: {}\".format(test_results.r2))"
   ]
  },
  {
   "cell_type": "code",
   "execution_count": 19,
   "metadata": {},
   "outputs": [
    {
     "name": "stdout",
     "output_type": "stream",
     "text": [
      "+-------+-------------------+\n",
      "|summary|            log_SO2|\n",
      "+-------+-------------------+\n",
      "|  count|             632447|\n",
      "|   mean| -5.513923936606017|\n",
      "| stddev|0.39201594521317135|\n",
      "|    min| -6.907755278982137|\n",
      "|    max| 1.3180155203665962|\n",
      "+-------+-------------------+\n",
      "\n"
     ]
    }
   ],
   "source": [
    "final_data.describe().show()"
   ]
  },
  {
   "cell_type": "code",
   "execution_count": 20,
   "metadata": {},
   "outputs": [
    {
     "name": "stdout",
     "output_type": "stream",
     "text": [
      "+--------------------+\n",
      "|            features|\n",
      "+--------------------+\n",
      "|[101.0,-6.9077552...|\n",
      "|[101.0,-6.9077552...|\n",
      "|[101.0,-6.9077552...|\n",
      "|[101.0,-6.9077552...|\n",
      "|[101.0,-6.9077552...|\n",
      "|[101.0,-6.9077552...|\n",
      "|[101.0,-6.9077552...|\n",
      "|[101.0,-6.9077552...|\n",
      "|[101.0,-6.9077552...|\n",
      "|[101.0,-6.9077552...|\n",
      "|[101.0,-6.9077552...|\n",
      "|[101.0,-6.9077552...|\n",
      "|[101.0,-6.9077552...|\n",
      "|[101.0,-6.9077552...|\n",
      "|[101.0,-6.9077552...|\n",
      "|[101.0,-6.9077552...|\n",
      "|[101.0,-6.9077552...|\n",
      "|[101.0,-6.9077552...|\n",
      "|[101.0,-6.9077552...|\n",
      "|[101.0,-6.9077552...|\n",
      "+--------------------+\n",
      "only showing top 20 rows\n",
      "\n"
     ]
    }
   ],
   "source": [
    "unlabeled_data = data_test.select('features')\n",
    "unlabeled_data.show()"
   ]
  },
  {
   "cell_type": "code",
   "execution_count": 21,
   "metadata": {},
   "outputs": [],
   "source": [
    "predictions = lrModel.transform(unlabeled_data)"
   ]
  },
  {
   "cell_type": "code",
   "execution_count": 22,
   "metadata": {},
   "outputs": [
    {
     "name": "stdout",
     "output_type": "stream",
     "text": [
      "+--------------------+------------------+\n",
      "|            features|        prediction|\n",
      "+--------------------+------------------+\n",
      "|[101.0,-6.9077552...|-6.907755278982138|\n",
      "|[101.0,-6.9077552...|-6.907755278982138|\n",
      "|[101.0,-6.9077552...|-6.907755278982138|\n",
      "|[101.0,-6.9077552...|-6.907755278982138|\n",
      "|[101.0,-6.9077552...|-6.907755278982138|\n",
      "|[101.0,-6.9077552...|-6.907755278982138|\n",
      "|[101.0,-6.9077552...|-6.907755278982138|\n",
      "|[101.0,-6.9077552...|-6.907755278982138|\n",
      "|[101.0,-6.9077552...|-6.907755278982138|\n",
      "|[101.0,-6.9077552...|-6.907755278982138|\n",
      "|[101.0,-6.9077552...|-6.907755278982138|\n",
      "|[101.0,-6.9077552...|-6.907755278982138|\n",
      "|[101.0,-6.9077552...|-6.907755278982138|\n",
      "|[101.0,-6.9077552...|-6.907755278982138|\n",
      "|[101.0,-6.9077552...|-6.907755278982138|\n",
      "|[101.0,-6.9077552...|-6.907755278982138|\n",
      "|[101.0,-6.9077552...|-6.907755278982138|\n",
      "|[101.0,-6.9077552...|-6.907755278982138|\n",
      "|[101.0,-6.9077552...|-6.907755278982138|\n",
      "|[101.0,-6.9077552...|-6.907755278982138|\n",
      "+--------------------+------------------+\n",
      "only showing top 20 rows\n",
      "\n"
     ]
    },
    {
     "data": {
      "text/plain": [
       "[Row(features=DenseVector([101.0, -6.9078, -4.9618, -3.912, -1.6094, 2.3979]), prediction=-6.907755278982138)]"
      ]
     },
     "execution_count": 22,
     "metadata": {},
     "output_type": "execute_result"
    }
   ],
   "source": [
    "predictions.show()\n",
    "predictions.head(1)"
   ]
  },
  {
   "cell_type": "code",
   "execution_count": 25,
   "metadata": {},
   "outputs": [
    {
     "data": {
      "image/png": "[encoded data removed]",
      "text/plain": [
       "<Figure size 432x288 with 1 Axes>"
      ]
     },
     "metadata": {},
     "output_type": "display_data"
    }
   ],
   "source": [
    "x = numpy.sort(lrModel.coefficients)\n",
    "plt.plot(x)\n",
    "plt.ylabel('Coefficients')\n",
    "plt.show()"
   ]
  },
  {
   "cell_type": "code",
   "execution_count": 26,
   "metadata": {},
   "outputs": [
    {
     "data": {
      "text/plain": [
       "[('features', 'vector'), ('prediction', 'double')]"
      ]
     },
     "execution_count": 26,
     "metadata": {},
     "output_type": "execute_result"
    }
   ],
   "source": [
    "results_columns = lrModel.transform(unlabeled_data)\n",
    "results_columns.dtypes"
   ]
  },
  {
   "cell_type": "code",
   "execution_count": 30,
   "metadata": {},
   "outputs": [
    {
     "name": "stdout",
     "output_type": "stream",
     "text": [
      "Welcome to\n",
      "      ____              __\n",
      "     / __/__  ___ _____/ /__\n",
      "    _\\ \\/ _ \\/ _ `/ __/  '_/\n",
      "   /__ / .__/\\_,_/_/ /_/\\_\\   version 2.1.1\n",
      "      /_/\n",
      "\n",
      "Using Python version 3.5.2 (default, Oct  7 2020 17:19:02)\n",
      "SparkSession available as 'spark'.\n"
     ]
    }
   ],
   "source": [
    "from pyspark.ml.classification import NaiveBayes\n",
    "from pyspark.ml.evaluation import MulticlassClassificationEvaluator\n",
    "from pyspark.mllib.linalg import Vectors,Vector\n",
    "from pyspark import SparkContext\n",
    "from pyspark.ml.regression import LinearRegression\n",
    "from pyspark.ml.feature import VectorAssembler\n",
    "from pyspark.python.pyspark.shell import spark\n",
    "from pyspark.ml.feature import StringIndexer\n",
    "from pyspark.sql.types import *\n",
    "from pyspark.sql.functions  import *\n",
    "from pyspark.ml.classification import LogisticRegression\n",
    "from pyspark.ml.clustering import KMeans\n",
    "import findspark\n",
    "findspark.init('/home/ubuntu/spark-2.1.1-bin-hadoop2.7')\n",
    "import pyspark\n",
    "from pyspark.sql import SparkSession\n",
    "spark = SparkSession.builder.appName('tree_methods_adv').getOrCreate()"
   ]
  },
  {
   "cell_type": "code",
   "execution_count": 28,
   "metadata": {},
   "outputs": [],
   "source": [
    "data_mining = data_mining.withColumn(\"SO2_level\", data_mining[\"SO2_level\"].cast(FloatType()))\n",
    "data_mining = data_mining.withColumn(\"NO2_level\", data_mining[\"NO2_level\"].cast(FloatType()))\n",
    "data_mining = data_mining.withColumn(\"O3_level\", data_mining[\"O3_level\"].cast(FloatType()))\n",
    "data_mining = data_mining.withColumn(\"CO_level\", data_mining[\"CO_level\"].cast(FloatType()))\n",
    "data_mining = data_mining.withColumn(\"PM10_level\", data_mining[\"PM10_level\"].cast(FloatType()))"
   ]
  },
  {
   "cell_type": "code",
   "execution_count": 29,
   "metadata": {},
   "outputs": [],
   "source": [
    "data_train, data_test = data_mining.randomSplit([0.7,0.3])"
   ]
  },
  {
   "cell_type": "code",
   "execution_count": 30,
   "metadata": {},
   "outputs": [],
   "source": [
    "assembler = VectorAssembler(inputCols=[\"log_SO2\",\"log_NO2\",\"log_O3\",\"log_CO\",\"log_PM10\",\"SO2_level\",\"NO2_level\",\"O3_level\",\"CO_level\",\"PM10_level\"],outputCol=\"features\")\n",
    "output = assembler.transform(data_train)"
   ]
  },
  {
   "cell_type": "code",
   "execution_count": 34,
   "metadata": {},
   "outputs": [
    {
     "name": "stdout",
     "output_type": "stream",
     "text": [
      "+--------------------------------------------------------------------------------------------------------------------+-----+\n",
      "|features                                                                                                            |label|\n",
      "+--------------------------------------------------------------------------------------------------------------------+-----+\n",
      "|(10,[0,1,2,3,4],[-5.298317366548036,-3.2441936328524905,-6.214608098422191,0.3364722366212129,4.248495242049359])   |0.0  |\n",
      "|(10,[0,1,2,3,4],[-5.298317366548036,-3.101092789211817,-5.809142990314028,-0.5108256237659907,4.290459441148391])   |0.0  |\n",
      "|(10,[0,1,2,4],[-5.298317366548036,-3.123565645063876,-5.521460917862246,4.394449154672439])                         |0.0  |\n",
      "|(10,[0,1,2,3,4],[-5.298317366548036,-2.7181005369557116,-5.809142990314028,0.4054651081081644,4.2626798770413155])  |0.0  |\n",
      "|(10,[0,1,2,3,4],[-5.298317366548036,-3.0159349808715104,-6.214608098422191,-0.10536051565782628,4.1588830833596715])|0.0  |\n",
      "|(10,[0,1,2,3,4],[-5.521460917862246,-3.101092789211817,-5.809142990314028,-0.2231435513142097,4.219507705176107])   |0.0  |\n",
      "|(10,[0,1,2,3,4],[-5.115995809754082,-2.9565115604007097,-6.214608098422191,0.09531017980432493,4.330733340286331])  |0.0  |\n",
      "|(10,[0,1,2,3,4],[-5.298317366548036,-3.2188758248682006,-6.214608098422191,-0.2231435513142097,4.51085950651685])   |0.0  |\n",
      "|(10,[0,1,2,3,4],[-5.521460917862246,-3.079113882493042,-6.907755278982137,0.1823215567939546,4.143134726391533])    |0.0  |\n",
      "|(10,[0,1,2,3,4],[-5.115995809754082,-2.9759296462578115,-6.214608098422191,-0.10536051565782628,4.394449154672439]) |0.0  |\n",
      "|(10,[0,1,2,3,4],[-4.8283137373023015,-2.900422093749666,-6.214608098422191,0.3364722366212129,4.31748811353631])    |0.0  |\n",
      "|(10,[0,1,2,3,4],[-5.298317366548036,-2.900422093749666,-6.214608098422191,0.26236426446749106,4.31748811353631])    |0.0  |\n",
      "|(10,[0,1,2,3,4],[-5.521460917862246,-2.8134107167600364,-6.907755278982137,0.1823215567939546,4.204692619390966])   |0.0  |\n",
      "|(10,[0,1,2,3,4],[-5.298317366548036,-3.3524072174927233,-5.521460917862246,0.4054651081081644,4.248495242049359])   |0.0  |\n",
      "|(10,[0,1,2,3,4],[-5.115995809754082,-2.7806208939370456,-6.214608098422191,0.1823215567939546,4.143134726391533])   |0.0  |\n",
      "|(10,[0,1,2,3,4],[-5.298317366548036,-3.2441936328524905,-5.298317366548036,0.26236426446749106,4.406719247264253])  |0.0  |\n",
      "|(10,[0,1,2,3,4],[-5.521460917862246,-3.170085660698769,-6.214608098422191,-0.10536051565782628,4.219507705176107])  |0.0  |\n",
      "|(10,[0,1,2,4],[-5.521460917862246,-3.101092789211817,-5.521460917862246,4.330733340286331])                         |0.0  |\n",
      "|(10,[0,1,2,3,4],[-5.298317366548036,-3.079113882493042,-5.809142990314028,-0.10536051565782628,4.343805421853684])  |0.0  |\n",
      "|(10,[0,1,2,3,4],[-5.298317366548036,-3.3813947543659757,-5.809142990314028,0.09531017980432493,4.330733340286331])  |0.0  |\n",
      "+--------------------------------------------------------------------------------------------------------------------+-----+\n",
      "only showing top 20 rows\n",
      "\n"
     ]
    }
   ],
   "source": [
    "label_features = output.select(\"features\", \"PM10_level\").toDF('features','label')\n",
    "label_features.show(truncate=False)"
   ]
  },
  {
   "cell_type": "code",
   "execution_count": 2,
   "metadata": {},
   "outputs": [],
   "source": [
    "import findspark\n",
    "findspark.init('/home/ubuntu/spark-2.1.1-bin-hadoop2.7')\n",
    "import pyspark\n",
    "from pyspark.sql import SparkSession\n",
    "spark = SparkSession.builder.appName('tree_methods_adv').getOrCreate()"
   ]
  },
  {
   "cell_type": "code",
   "execution_count": 36,
   "metadata": {},
   "outputs": [],
   "source": [
    "from pyspark.ml.feature import StringIndexer"
   ]
  },
  {
   "cell_type": "code",
   "execution_count": 38,
   "metadata": {},
   "outputs": [],
   "source": [
    "indexer = StringIndexer(inputCol=\"PM10_level\", outputCol=\"PM10_level_Index\")\n",
    "output_fixed = indexer.fit(output).transform(output)"
   ]
  },
  {
   "cell_type": "code",
   "execution_count": 39,
   "metadata": {},
   "outputs": [],
   "source": [
    "final_data = output_fixed.select(\"features\",'PM10_level_Index')"
   ]
  },
  {
   "cell_type": "code",
   "execution_count": 40,
   "metadata": {},
   "outputs": [],
   "source": [
    "from pyspark.ml.classification import DecisionTreeClassifier,GBTClassifier,RandomForestClassifier\n",
    "from pyspark.ml import Pipeline"
   ]
  },
  {
   "cell_type": "code",
   "execution_count": 41,
   "metadata": {},
   "outputs": [],
   "source": [
    "dtc = DecisionTreeClassifier(labelCol='PM10_level_Index',featuresCol='features')\n",
    "rfc = RandomForestClassifier(labelCol='PM10_level_Index',featuresCol='features')\n",
    "gbt = GBTClassifier(labelCol='PM10_level_Index',featuresCol='features')"
   ]
  },
  {
   "cell_type": "code",
   "execution_count": 43,
   "metadata": {},
   "outputs": [
    {
     "ename": "IllegalArgumentException",
     "evalue": "'Field \"features\" does not exist.'",
     "output_type": "error",
     "traceback": [
      "\u001b[0;31m---------------------------------------------------------------------------\u001b[0m",
      "\u001b[0;31mPy4JJavaError\u001b[0m                             Traceback (most recent call last)",
      "\u001b[0;32m~/spark-2.1.1-bin-hadoop2.7/python/pyspark/sql/utils.py\u001b[0m in \u001b[0;36mdeco\u001b[0;34m(*a, **kw)\u001b[0m\n\u001b[1;32m     62\u001b[0m         \u001b[0;32mtry\u001b[0m\u001b[0;34m:\u001b[0m\u001b[0;34m\u001b[0m\u001b[0m\n\u001b[0;32m---> 63\u001b[0;31m             \u001b[0;32mreturn\u001b[0m \u001b[0mf\u001b[0m\u001b[0;34m(\u001b[0m\u001b[0;34m*\u001b[0m\u001b[0ma\u001b[0m\u001b[0;34m,\u001b[0m \u001b[0;34m**\u001b[0m\u001b[0mkw\u001b[0m\u001b[0;34m)\u001b[0m\u001b[0;34m\u001b[0m\u001b[0m\n\u001b[0m\u001b[1;32m     64\u001b[0m         \u001b[0;32mexcept\u001b[0m \u001b[0mpy4j\u001b[0m\u001b[0;34m.\u001b[0m\u001b[0mprotocol\u001b[0m\u001b[0;34m.\u001b[0m\u001b[0mPy4JJavaError\u001b[0m \u001b[0;32mas\u001b[0m \u001b[0me\u001b[0m\u001b[0;34m:\u001b[0m\u001b[0;34m\u001b[0m\u001b[0m\n",
      "\u001b[0;32m~/spark-2.1.1-bin-hadoop2.7/python/lib/py4j-0.10.4-src.zip/py4j/protocol.py\u001b[0m in \u001b[0;36mget_return_value\u001b[0;34m(answer, gateway_client, target_id, name)\u001b[0m\n\u001b[1;32m    318\u001b[0m                     \u001b[0;34m\"An error occurred while calling {0}{1}{2}.\\n\"\u001b[0m\u001b[0;34m.\u001b[0m\u001b[0;34m\u001b[0m\u001b[0m\n\u001b[0;32m--> 319\u001b[0;31m                     format(target_id, \".\", name), value)\n\u001b[0m\u001b[1;32m    320\u001b[0m             \u001b[0;32melse\u001b[0m\u001b[0;34m:\u001b[0m\u001b[0;34m\u001b[0m\u001b[0m\n",
      "\u001b[0;31mPy4JJavaError\u001b[0m: An error occurred while calling o259.fit.\n: java.lang.IllegalArgumentException: Field \"features\" does not exist.\n\tat org.apache.spark.sql.types.StructType$$anonfun$apply$1.apply(StructType.scala:264)\n\tat org.apache.spark.sql.types.StructType$$anonfun$apply$1.apply(StructType.scala:264)\n\tat scala.collection.MapLike$class.getOrElse(MapLike.scala:128)\n\tat scala.collection.AbstractMap.getOrElse(Map.scala:59)\n\tat org.apache.spark.sql.types.StructType.apply(StructType.scala:263)\n\tat org.apache.spark.ml.util.SchemaUtils$.checkColumnType(SchemaUtils.scala:40)\n\tat org.apache.spark.ml.PredictorParams$class.validateAndTransformSchema(Predictor.scala:51)\n\tat org.apache.spark.ml.classification.Classifier.org$apache$spark$ml$classification$ClassifierParams$$super$validateAndTransformSchema(Classifier.scala:58)\n\tat org.apache.spark.ml.classification.ClassifierParams$class.validateAndTransformSchema(Classifier.scala:42)\n\tat org.apache.spark.ml.classification.ProbabilisticClassifier.org$apache$spark$ml$classification$ProbabilisticClassifierParams$$super$validateAndTransformSchema(ProbabilisticClassifier.scala:53)\n\tat org.apache.spark.ml.classification.ProbabilisticClassifierParams$class.validateAndTransformSchema(ProbabilisticClassifier.scala:37)\n\tat org.apache.spark.ml.classification.ProbabilisticClassifier.validateAndTransformSchema(ProbabilisticClassifier.scala:53)\n\tat org.apache.spark.ml.Predictor.transformSchema(Predictor.scala:122)\n\tat org.apache.spark.ml.PipelineStage.transformSchema(Pipeline.scala:74)\n\tat org.apache.spark.ml.Predictor.fit(Predictor.scala:90)\n\tat org.apache.spark.ml.Predictor.fit(Predictor.scala:72)\n\tat sun.reflect.NativeMethodAccessorImpl.invoke0(Native Method)\n\tat sun.reflect.NativeMethodAccessorImpl.invoke(NativeMethodAccessorImpl.java:62)\n\tat sun.reflect.DelegatingMethodAccessorImpl.invoke(DelegatingMethodAccessorImpl.java:43)\n\tat java.lang.reflect.Method.invoke(Method.java:498)\n\tat py4j.reflection.MethodInvoker.invoke(MethodInvoker.java:244)\n\tat py4j.reflection.ReflectionEngine.invoke(ReflectionEngine.java:357)\n\tat py4j.Gateway.invoke(Gateway.java:280)\n\tat py4j.commands.AbstractCommand.invokeMethod(AbstractCommand.java:132)\n\tat py4j.commands.CallCommand.execute(CallCommand.java:79)\n\tat py4j.GatewayConnection.run(GatewayConnection.java:214)\n\tat java.lang.Thread.run(Thread.java:748)\n",
      "\nDuring handling of the above exception, another exception occurred:\n",
      "\u001b[0;31mIllegalArgumentException\u001b[0m                  Traceback (most recent call last)",
      "\u001b[0;32m<ipython-input-43-f15a2bbe4d54>\u001b[0m in \u001b[0;36m<module>\u001b[0;34m()\u001b[0m\n\u001b[0;32m----> 1\u001b[0;31m \u001b[0mdtc_model\u001b[0m \u001b[0;34m=\u001b[0m \u001b[0mdtc\u001b[0m\u001b[0;34m.\u001b[0m\u001b[0mfit\u001b[0m\u001b[0;34m(\u001b[0m\u001b[0mdata_train\u001b[0m\u001b[0;34m)\u001b[0m\u001b[0;34m\u001b[0m\u001b[0m\n\u001b[0m\u001b[1;32m      2\u001b[0m \u001b[0mrfc_model\u001b[0m \u001b[0;34m=\u001b[0m \u001b[0mrfc\u001b[0m\u001b[0;34m.\u001b[0m\u001b[0mfit\u001b[0m\u001b[0;34m(\u001b[0m\u001b[0mdata_train\u001b[0m\u001b[0;34m)\u001b[0m\u001b[0;34m\u001b[0m\u001b[0m\n\u001b[1;32m      3\u001b[0m \u001b[0mgbt_model\u001b[0m \u001b[0;34m=\u001b[0m \u001b[0mgbt\u001b[0m\u001b[0;34m.\u001b[0m\u001b[0mfit\u001b[0m\u001b[0;34m(\u001b[0m\u001b[0mdata_train\u001b[0m\u001b[0;34m)\u001b[0m\u001b[0;34m\u001b[0m\u001b[0m\n",
      "\u001b[0;32m~/spark-2.1.1-bin-hadoop2.7/python/pyspark/ml/base.py\u001b[0m in \u001b[0;36mfit\u001b[0;34m(self, dataset, params)\u001b[0m\n\u001b[1;32m     62\u001b[0m                 \u001b[0;32mreturn\u001b[0m \u001b[0mself\u001b[0m\u001b[0;34m.\u001b[0m\u001b[0mcopy\u001b[0m\u001b[0;34m(\u001b[0m\u001b[0mparams\u001b[0m\u001b[0;34m)\u001b[0m\u001b[0;34m.\u001b[0m\u001b[0m_fit\u001b[0m\u001b[0;34m(\u001b[0m\u001b[0mdataset\u001b[0m\u001b[0;34m)\u001b[0m\u001b[0;34m\u001b[0m\u001b[0m\n\u001b[1;32m     63\u001b[0m             \u001b[0;32melse\u001b[0m\u001b[0;34m:\u001b[0m\u001b[0;34m\u001b[0m\u001b[0m\n\u001b[0;32m---> 64\u001b[0;31m                 \u001b[0;32mreturn\u001b[0m \u001b[0mself\u001b[0m\u001b[0;34m.\u001b[0m\u001b[0m_fit\u001b[0m\u001b[0;34m(\u001b[0m\u001b[0mdataset\u001b[0m\u001b[0;34m)\u001b[0m\u001b[0;34m\u001b[0m\u001b[0m\n\u001b[0m\u001b[1;32m     65\u001b[0m         \u001b[0;32melse\u001b[0m\u001b[0;34m:\u001b[0m\u001b[0;34m\u001b[0m\u001b[0m\n\u001b[1;32m     66\u001b[0m             raise ValueError(\"Params must be either a param map or a list/tuple of param maps, \"\n",
      "\u001b[0;32m~/spark-2.1.1-bin-hadoop2.7/python/pyspark/ml/wrapper.py\u001b[0m in \u001b[0;36m_fit\u001b[0;34m(self, dataset)\u001b[0m\n\u001b[1;32m    234\u001b[0m \u001b[0;34m\u001b[0m\u001b[0m\n\u001b[1;32m    235\u001b[0m     \u001b[0;32mdef\u001b[0m \u001b[0m_fit\u001b[0m\u001b[0;34m(\u001b[0m\u001b[0mself\u001b[0m\u001b[0;34m,\u001b[0m \u001b[0mdataset\u001b[0m\u001b[0;34m)\u001b[0m\u001b[0;34m:\u001b[0m\u001b[0;34m\u001b[0m\u001b[0m\n\u001b[0;32m--> 236\u001b[0;31m         \u001b[0mjava_model\u001b[0m \u001b[0;34m=\u001b[0m \u001b[0mself\u001b[0m\u001b[0;34m.\u001b[0m\u001b[0m_fit_java\u001b[0m\u001b[0;34m(\u001b[0m\u001b[0mdataset\u001b[0m\u001b[0;34m)\u001b[0m\u001b[0;34m\u001b[0m\u001b[0m\n\u001b[0m\u001b[1;32m    237\u001b[0m         \u001b[0;32mreturn\u001b[0m \u001b[0mself\u001b[0m\u001b[0;34m.\u001b[0m\u001b[0m_create_model\u001b[0m\u001b[0;34m(\u001b[0m\u001b[0mjava_model\u001b[0m\u001b[0;34m)\u001b[0m\u001b[0;34m\u001b[0m\u001b[0m\n\u001b[1;32m    238\u001b[0m \u001b[0;34m\u001b[0m\u001b[0m\n",
      "\u001b[0;32m~/spark-2.1.1-bin-hadoop2.7/python/pyspark/ml/wrapper.py\u001b[0m in \u001b[0;36m_fit_java\u001b[0;34m(self, dataset)\u001b[0m\n\u001b[1;32m    231\u001b[0m         \"\"\"\n\u001b[1;32m    232\u001b[0m         \u001b[0mself\u001b[0m\u001b[0;34m.\u001b[0m\u001b[0m_transfer_params_to_java\u001b[0m\u001b[0;34m(\u001b[0m\u001b[0;34m)\u001b[0m\u001b[0;34m\u001b[0m\u001b[0m\n\u001b[0;32m--> 233\u001b[0;31m         \u001b[0;32mreturn\u001b[0m \u001b[0mself\u001b[0m\u001b[0;34m.\u001b[0m\u001b[0m_java_obj\u001b[0m\u001b[0;34m.\u001b[0m\u001b[0mfit\u001b[0m\u001b[0;34m(\u001b[0m\u001b[0mdataset\u001b[0m\u001b[0;34m.\u001b[0m\u001b[0m_jdf\u001b[0m\u001b[0;34m)\u001b[0m\u001b[0;34m\u001b[0m\u001b[0m\n\u001b[0m\u001b[1;32m    234\u001b[0m \u001b[0;34m\u001b[0m\u001b[0m\n\u001b[1;32m    235\u001b[0m     \u001b[0;32mdef\u001b[0m \u001b[0m_fit\u001b[0m\u001b[0;34m(\u001b[0m\u001b[0mself\u001b[0m\u001b[0;34m,\u001b[0m \u001b[0mdataset\u001b[0m\u001b[0;34m)\u001b[0m\u001b[0;34m:\u001b[0m\u001b[0;34m\u001b[0m\u001b[0m\n",
      "\u001b[0;32m~/spark-2.1.1-bin-hadoop2.7/python/lib/py4j-0.10.4-src.zip/py4j/java_gateway.py\u001b[0m in \u001b[0;36m__call__\u001b[0;34m(self, *args)\u001b[0m\n\u001b[1;32m   1131\u001b[0m         \u001b[0manswer\u001b[0m \u001b[0;34m=\u001b[0m \u001b[0mself\u001b[0m\u001b[0;34m.\u001b[0m\u001b[0mgateway_client\u001b[0m\u001b[0;34m.\u001b[0m\u001b[0msend_command\u001b[0m\u001b[0;34m(\u001b[0m\u001b[0mcommand\u001b[0m\u001b[0;34m)\u001b[0m\u001b[0;34m\u001b[0m\u001b[0m\n\u001b[1;32m   1132\u001b[0m         return_value = get_return_value(\n\u001b[0;32m-> 1133\u001b[0;31m             answer, self.gateway_client, self.target_id, self.name)\n\u001b[0m\u001b[1;32m   1134\u001b[0m \u001b[0;34m\u001b[0m\u001b[0m\n\u001b[1;32m   1135\u001b[0m         \u001b[0;32mfor\u001b[0m \u001b[0mtemp_arg\u001b[0m \u001b[0;32min\u001b[0m \u001b[0mtemp_args\u001b[0m\u001b[0;34m:\u001b[0m\u001b[0;34m\u001b[0m\u001b[0m\n",
      "\u001b[0;32m~/spark-2.1.1-bin-hadoop2.7/python/pyspark/sql/utils.py\u001b[0m in \u001b[0;36mdeco\u001b[0;34m(*a, **kw)\u001b[0m\n\u001b[1;32m     77\u001b[0m                 \u001b[0;32mraise\u001b[0m \u001b[0mQueryExecutionException\u001b[0m\u001b[0;34m(\u001b[0m\u001b[0ms\u001b[0m\u001b[0;34m.\u001b[0m\u001b[0msplit\u001b[0m\u001b[0;34m(\u001b[0m\u001b[0;34m': '\u001b[0m\u001b[0;34m,\u001b[0m \u001b[0;36m1\u001b[0m\u001b[0;34m)\u001b[0m\u001b[0;34m[\u001b[0m\u001b[0;36m1\u001b[0m\u001b[0;34m]\u001b[0m\u001b[0;34m,\u001b[0m \u001b[0mstackTrace\u001b[0m\u001b[0;34m)\u001b[0m\u001b[0;34m\u001b[0m\u001b[0m\n\u001b[1;32m     78\u001b[0m             \u001b[0;32mif\u001b[0m \u001b[0ms\u001b[0m\u001b[0;34m.\u001b[0m\u001b[0mstartswith\u001b[0m\u001b[0;34m(\u001b[0m\u001b[0;34m'java.lang.IllegalArgumentException: '\u001b[0m\u001b[0;34m)\u001b[0m\u001b[0;34m:\u001b[0m\u001b[0;34m\u001b[0m\u001b[0m\n\u001b[0;32m---> 79\u001b[0;31m                 \u001b[0;32mraise\u001b[0m \u001b[0mIllegalArgumentException\u001b[0m\u001b[0;34m(\u001b[0m\u001b[0ms\u001b[0m\u001b[0;34m.\u001b[0m\u001b[0msplit\u001b[0m\u001b[0;34m(\u001b[0m\u001b[0;34m': '\u001b[0m\u001b[0;34m,\u001b[0m \u001b[0;36m1\u001b[0m\u001b[0;34m)\u001b[0m\u001b[0;34m[\u001b[0m\u001b[0;36m1\u001b[0m\u001b[0;34m]\u001b[0m\u001b[0;34m,\u001b[0m \u001b[0mstackTrace\u001b[0m\u001b[0;34m)\u001b[0m\u001b[0;34m\u001b[0m\u001b[0m\n\u001b[0m\u001b[1;32m     80\u001b[0m             \u001b[0;32mraise\u001b[0m\u001b[0;34m\u001b[0m\u001b[0m\n\u001b[1;32m     81\u001b[0m     \u001b[0;32mreturn\u001b[0m \u001b[0mdeco\u001b[0m\u001b[0;34m\u001b[0m\u001b[0m\n",
      "\u001b[0;31mIllegalArgumentException\u001b[0m: 'Field \"features\" does not exist.'"
     ]
    }
   ],
   "source": [
    "dtc_model = dtc.fit(data_train)\n",
    "rfc_model = rfc.fit(data_train)\n",
    "gbt_model = gbt.fit(data_train)"
   ]
  },
  {
   "cell_type": "code",
   "execution_count": 16,
   "metadata": {},
   "outputs": [
    {
     "name": "stdout",
     "output_type": "stream",
     "text": [
      "Welcome to\n",
      "      ____              __\n",
      "     / __/__  ___ _____/ /__\n",
      "    _\\ \\/ _ \\/ _ `/ __/  '_/\n",
      "   /__ / .__/\\_,_/_/ /_/\\_\\   version 2.1.1\n",
      "      /_/\n",
      "\n",
      "Using Python version 3.5.2 (default, Oct  7 2020 17:19:02)\n",
      "SparkSession available as 'spark'.\n"
     ]
    }
   ],
   "source": [
    "from pyspark.ml.classification import NaiveBayes\n",
    "from pyspark.ml.evaluation import MulticlassClassificationEvaluator\n",
    "from pyspark.mllib.linalg import Vectors,Vector\n",
    "from pyspark import SparkContext\n",
    "from pyspark.ml.regression import LinearRegression\n",
    "from pyspark.ml.feature import VectorAssembler\n",
    "from pyspark.python.pyspark.shell import spark\n",
    "from pyspark.ml.feature import StringIndexer\n",
    "from pyspark.sql.types import *\n",
    "from pyspark.sql.functions  import *\n",
    "from pyspark.ml.classification import LogisticRegression\n",
    "from pyspark.ml.clustering import KMeans"
   ]
  },
  {
   "cell_type": "code",
   "execution_count": 31,
   "metadata": {},
   "outputs": [],
   "source": [
    "data_mining = data_mining.withColumn(\"SO2_level\", data_mining[\"SO2_level\"].cast(FloatType()))\n",
    "data_mining = data_mining.withColumn(\"NO2_level\", data_mining[\"NO2_level\"].cast(FloatType()))\n",
    "data_mining = data_mining.withColumn(\"O3_level\", data_mining[\"O3_level\"].cast(FloatType()))\n",
    "data_mining = data_mining.withColumn(\"CO_level\", data_mining[\"CO_level\"].cast(FloatType()))\n",
    "data_mining = data_mining.withColumn(\"PM10_level\", data_mining[\"PM10_level\"].cast(FloatType()))"
   ]
  },
  {
   "cell_type": "code",
   "execution_count": 32,
   "metadata": {},
   "outputs": [
    {
     "name": "stdout",
     "output_type": "stream",
     "text": [
      "+--------------------------------------------------------------------------------------------------------------------+-----+\n",
      "|features                                                                                                            |label|\n",
      "+--------------------------------------------------------------------------------------------------------------------+-----+\n",
      "|(10,[0,1,2,3,4],[-5.521460917862246,-2.8302178350764176,-6.214608098422191,0.1823215567939546,4.290459441148391])   |0.0  |\n",
      "|(10,[0,1,2,3,4],[-5.298317366548036,-3.101092789211817,-5.809142990314028,-0.5108256237659907,4.290459441148391])   |0.0  |\n",
      "|(10,[0,1,2,3,4],[-5.298317366548036,-2.7181005369557116,-5.809142990314028,0.4054651081081644,4.2626798770413155])  |0.0  |\n",
      "|(10,[0,1,2,3,4],[-5.298317366548036,-3.0159349808715104,-6.214608098422191,-0.10536051565782628,4.1588830833596715])|0.0  |\n",
      "|(10,[0,1,2,3,4],[-5.115995809754082,-2.9565115604007097,-6.214608098422191,0.09531017980432493,4.330733340286331])  |0.0  |\n",
      "|(10,[0,1,2,3,4],[-5.298317366548036,-3.2188758248682006,-6.214608098422191,-0.2231435513142097,4.51085950651685])   |0.0  |\n",
      "|(10,[0,1,2,3,4],[-5.298317366548036,-3.0576076772720784,-6.214608098422191,-0.10536051565782628,4.127134385045092]) |0.0  |\n",
      "|(10,[0,1,2,3,4],[-5.521460917862246,-3.079113882493042,-6.907755278982137,0.1823215567939546,4.143134726391533])    |0.0  |\n",
      "|(10,[0,1,2,3,4],[-5.115995809754082,-2.9759296462578115,-6.214608098422191,-0.10536051565782628,4.394449154672439]) |0.0  |\n",
      "|(10,[0,1,2,3,4],[-4.8283137373023015,-2.900422093749666,-6.214608098422191,0.3364722366212129,4.31748811353631])    |0.0  |\n",
      "|(10,[0,1,2,3,4],[-4.961845129926824,-2.659260036932778,-6.214608098422191,0.26236426446749106,4.672828834461906])   |0.0  |\n",
      "|(10,[0,1,2,3,4],[-4.961845129926824,-3.101092789211817,-5.809142990314028,0.26236426446749106,4.276666119016055])   |0.0  |\n",
      "|(10,[0,1,2,3,4],[-5.521460917862246,-2.8134107167600364,-6.907755278982137,0.1823215567939546,4.204692619390966])   |0.0  |\n",
      "|(10,[0,1,2,3,4],[-5.298317366548036,-3.3524072174927233,-5.521460917862246,0.4054651081081644,4.248495242049359])   |0.0  |\n",
      "|(10,[0,1,2,3,4],[-5.115995809754082,-2.5902671654458267,-5.521460917862246,0.4054651081081644,4.31748811353631])    |0.0  |\n",
      "|(10,[0,1,2,3,4],[-5.298317366548036,-3.2441936328524905,-5.298317366548036,0.26236426446749106,4.406719247264253])  |0.0  |\n",
      "|(10,[0,1,2,3,4],[-5.298317366548036,-3.2188758248682006,-6.214608098422191,-0.2231435513142097,4.143134726391533])  |0.0  |\n",
      "|(10,[0,1,2,3,4],[-5.115995809754082,-3.2188758248682006,-5.809142990314028,0.3364722366212129,4.0943445622221])     |0.0  |\n",
      "|(10,[0,1,2,3,4],[-5.521460917862246,-3.170085660698769,-6.214608098422191,-0.10536051565782628,4.219507705176107])  |0.0  |\n",
      "|(10,[0,1,2,4],[-5.521460917862246,-3.101092789211817,-5.521460917862246,4.330733340286331])                         |0.0  |\n",
      "+--------------------------------------------------------------------------------------------------------------------+-----+\n",
      "only showing top 20 rows\n",
      "\n"
     ]
    }
   ],
   "source": [
    "assembler = VectorAssembler(inputCols=[\"log_SO2\",\"log_NO2\",\"log_O3\",\"log_CO\",\"log_PM10\",\"SO2_level\",\"NO2_level\",\"O3_level\",\"CO_level\",\"PM10_level\"],outputCol=\"features\")\n",
    "output = assembler.transform(data_train)\n",
    "label_features = output.select(\"features\", \"PM10_level\").toDF('features','label')\n",
    "label_features.show(truncate=False)"
   ]
  },
  {
   "cell_type": "code",
   "execution_count": 33,
   "metadata": {},
   "outputs": [],
   "source": [
    "nb = NaiveBayes(smoothing=1.0, modelType=\"multinomial\")"
   ]
  },
  {
   "cell_type": "code",
   "execution_count": 34,
   "metadata": {},
   "outputs": [
    {
     "ename": "Py4JJavaError",
     "evalue": "An error occurred while calling o429.fit.\n: org.apache.spark.SparkException: Job aborted due to stage failure: Task 0 in stage 18.0 failed 1 times, most recent failure: Lost task 0.0 in stage 18.0 (TID 24, localhost, executor driver): java.lang.IllegalArgumentException: requirement failed: Naive Bayes requires nonnegative feature values but found (10,[0,1,2,3,4],[-5.521460917862246,-2.8302178350764176,-6.214608098422191,0.1823215567939546,4.290459441148391]).\n\tat scala.Predef$.require(Predef.scala:224)\n\tat org.apache.spark.ml.classification.NaiveBayes$.requireNonnegativeValues(NaiveBayes.scala:227)\n\tat org.apache.spark.ml.classification.NaiveBayes$$anonfun$4.apply(NaiveBayes.scala:143)\n\tat org.apache.spark.ml.classification.NaiveBayes$$anonfun$4.apply(NaiveBayes.scala:143)\n\tat org.apache.spark.ml.classification.NaiveBayes$$anonfun$7.apply(NaiveBayes.scala:163)\n\tat org.apache.spark.ml.classification.NaiveBayes$$anonfun$7.apply(NaiveBayes.scala:161)\n\tat org.apache.spark.rdd.PairRDDFunctions$$anonfun$aggregateByKey$1$$anonfun$apply$12.apply(PairRDDFunctions.scala:177)\n\tat org.apache.spark.util.collection.ExternalSorter$$anonfun$5.apply(ExternalSorter.scala:189)\n\tat org.apache.spark.util.collection.ExternalSorter$$anonfun$5.apply(ExternalSorter.scala:188)\n\tat org.apache.spark.util.collection.AppendOnlyMap.changeValue(AppendOnlyMap.scala:144)\n\tat org.apache.spark.util.collection.SizeTrackingAppendOnlyMap.changeValue(SizeTrackingAppendOnlyMap.scala:32)\n\tat org.apache.spark.util.collection.ExternalSorter.insertAll(ExternalSorter.scala:194)\n\tat org.apache.spark.shuffle.sort.SortShuffleWriter.write(SortShuffleWriter.scala:63)\n\tat org.apache.spark.scheduler.ShuffleMapTask.runTask(ShuffleMapTask.scala:96)\n\tat org.apache.spark.scheduler.ShuffleMapTask.runTask(ShuffleMapTask.scala:53)\n\tat org.apache.spark.scheduler.Task.run(Task.scala:99)\n\tat org.apache.spark.executor.Executor$TaskRunner.run(Executor.scala:322)\n\tat java.util.concurrent.ThreadPoolExecutor.runWorker(ThreadPoolExecutor.java:1149)\n\tat java.util.concurrent.ThreadPoolExecutor$Worker.run(ThreadPoolExecutor.java:624)\n\tat java.lang.Thread.run(Thread.java:748)\n\nDriver stacktrace:\n\tat org.apache.spark.scheduler.DAGScheduler.org$apache$spark$scheduler$DAGScheduler$$failJobAndIndependentStages(DAGScheduler.scala:1435)\n\tat org.apache.spark.scheduler.DAGScheduler$$anonfun$abortStage$1.apply(DAGScheduler.scala:1423)\n\tat org.apache.spark.scheduler.DAGScheduler$$anonfun$abortStage$1.apply(DAGScheduler.scala:1422)\n\tat scala.collection.mutable.ResizableArray$class.foreach(ResizableArray.scala:59)\n\tat scala.collection.mutable.ArrayBuffer.foreach(ArrayBuffer.scala:48)\n\tat org.apache.spark.scheduler.DAGScheduler.abortStage(DAGScheduler.scala:1422)\n\tat org.apache.spark.scheduler.DAGScheduler$$anonfun$handleTaskSetFailed$1.apply(DAGScheduler.scala:802)\n\tat org.apache.spark.scheduler.DAGScheduler$$anonfun$handleTaskSetFailed$1.apply(DAGScheduler.scala:802)\n\tat scala.Option.foreach(Option.scala:257)\n\tat org.apache.spark.scheduler.DAGScheduler.handleTaskSetFailed(DAGScheduler.scala:802)\n\tat org.apache.spark.scheduler.DAGSchedulerEventProcessLoop.doOnReceive(DAGScheduler.scala:1650)\n\tat org.apache.spark.scheduler.DAGSchedulerEventProcessLoop.onReceive(DAGScheduler.scala:1605)\n\tat org.apache.spark.scheduler.DAGSchedulerEventProcessLoop.onReceive(DAGScheduler.scala:1594)\n\tat org.apache.spark.util.EventLoop$$anon$1.run(EventLoop.scala:48)\n\tat org.apache.spark.scheduler.DAGScheduler.runJob(DAGScheduler.scala:628)\n\tat org.apache.spark.SparkContext.runJob(SparkContext.scala:1925)\n\tat org.apache.spark.SparkContext.runJob(SparkContext.scala:1938)\n\tat org.apache.spark.SparkContext.runJob(SparkContext.scala:1951)\n\tat org.apache.spark.SparkContext.runJob(SparkContext.scala:1965)\n\tat org.apache.spark.rdd.RDD$$anonfun$collect$1.apply(RDD.scala:936)\n\tat org.apache.spark.rdd.RDDOperationScope$.withScope(RDDOperationScope.scala:151)\n\tat org.apache.spark.rdd.RDDOperationScope$.withScope(RDDOperationScope.scala:112)\n\tat org.apache.spark.rdd.RDD.withScope(RDD.scala:362)\n\tat org.apache.spark.rdd.RDD.collect(RDD.scala:935)\n\tat org.apache.spark.ml.classification.NaiveBayes.trainWithLabelCheck(NaiveBayes.scala:171)\n\tat org.apache.spark.ml.classification.NaiveBayes.train(NaiveBayes.scala:118)\n\tat org.apache.spark.ml.classification.NaiveBayes.train(NaiveBayes.scala:78)\n\tat org.apache.spark.ml.Predictor.fit(Predictor.scala:96)\n\tat org.apache.spark.ml.Predictor.fit(Predictor.scala:72)\n\tat sun.reflect.NativeMethodAccessorImpl.invoke0(Native Method)\n\tat sun.reflect.NativeMethodAccessorImpl.invoke(NativeMethodAccessorImpl.java:62)\n\tat sun.reflect.DelegatingMethodAccessorImpl.invoke(DelegatingMethodAccessorImpl.java:43)\n\tat java.lang.reflect.Method.invoke(Method.java:498)\n\tat py4j.reflection.MethodInvoker.invoke(MethodInvoker.java:244)\n\tat py4j.reflection.ReflectionEngine.invoke(ReflectionEngine.java:357)\n\tat py4j.Gateway.invoke(Gateway.java:280)\n\tat py4j.commands.AbstractCommand.invokeMethod(AbstractCommand.java:132)\n\tat py4j.commands.CallCommand.execute(CallCommand.java:79)\n\tat py4j.GatewayConnection.run(GatewayConnection.java:214)\n\tat java.lang.Thread.run(Thread.java:748)\nCaused by: java.lang.IllegalArgumentException: requirement failed: Naive Bayes requires nonnegative feature values but found (10,[0,1,2,3,4],[-5.521460917862246,-2.8302178350764176,-6.214608098422191,0.1823215567939546,4.290459441148391]).\n\tat scala.Predef$.require(Predef.scala:224)\n\tat org.apache.spark.ml.classification.NaiveBayes$.requireNonnegativeValues(NaiveBayes.scala:227)\n\tat org.apache.spark.ml.classification.NaiveBayes$$anonfun$4.apply(NaiveBayes.scala:143)\n\tat org.apache.spark.ml.classification.NaiveBayes$$anonfun$4.apply(NaiveBayes.scala:143)\n\tat org.apache.spark.ml.classification.NaiveBayes$$anonfun$7.apply(NaiveBayes.scala:163)\n\tat org.apache.spark.ml.classification.NaiveBayes$$anonfun$7.apply(NaiveBayes.scala:161)\n\tat org.apache.spark.rdd.PairRDDFunctions$$anonfun$aggregateByKey$1$$anonfun$apply$12.apply(PairRDDFunctions.scala:177)\n\tat org.apache.spark.util.collection.ExternalSorter$$anonfun$5.apply(ExternalSorter.scala:189)\n\tat org.apache.spark.util.collection.ExternalSorter$$anonfun$5.apply(ExternalSorter.scala:188)\n\tat org.apache.spark.util.collection.AppendOnlyMap.changeValue(AppendOnlyMap.scala:144)\n\tat org.apache.spark.util.collection.SizeTrackingAppendOnlyMap.changeValue(SizeTrackingAppendOnlyMap.scala:32)\n\tat org.apache.spark.util.collection.ExternalSorter.insertAll(ExternalSorter.scala:194)\n\tat org.apache.spark.shuffle.sort.SortShuffleWriter.write(SortShuffleWriter.scala:63)\n\tat org.apache.spark.scheduler.ShuffleMapTask.runTask(ShuffleMapTask.scala:96)\n\tat org.apache.spark.scheduler.ShuffleMapTask.runTask(ShuffleMapTask.scala:53)\n\tat org.apache.spark.scheduler.Task.run(Task.scala:99)\n\tat org.apache.spark.executor.Executor$TaskRunner.run(Executor.scala:322)\n\tat java.util.concurrent.ThreadPoolExecutor.runWorker(ThreadPoolExecutor.java:1149)\n\tat java.util.concurrent.ThreadPoolExecutor$Worker.run(ThreadPoolExecutor.java:624)\n\t... 1 more\n",
     "output_type": "error",
     "traceback": [
      "\u001b[0;31m---------------------------------------------------------------------------\u001b[0m",
      "\u001b[0;31mPy4JJavaError\u001b[0m                             Traceback (most recent call last)",
      "\u001b[0;32m<ipython-input-34-e2a2c6273ce7>\u001b[0m in \u001b[0;36m<module>\u001b[0;34m()\u001b[0m\n\u001b[0;32m----> 1\u001b[0;31m \u001b[0mmodel\u001b[0m \u001b[0;34m=\u001b[0m \u001b[0mnb\u001b[0m\u001b[0;34m.\u001b[0m\u001b[0mfit\u001b[0m\u001b[0;34m(\u001b[0m\u001b[0mlabel_features\u001b[0m\u001b[0;34m)\u001b[0m\u001b[0;34m\u001b[0m\u001b[0m\n\u001b[0m",
      "\u001b[0;32m~/spark-2.1.1-bin-hadoop2.7/python/pyspark/ml/base.py\u001b[0m in \u001b[0;36mfit\u001b[0;34m(self, dataset, params)\u001b[0m\n\u001b[1;32m     62\u001b[0m                 \u001b[0;32mreturn\u001b[0m \u001b[0mself\u001b[0m\u001b[0;34m.\u001b[0m\u001b[0mcopy\u001b[0m\u001b[0;34m(\u001b[0m\u001b[0mparams\u001b[0m\u001b[0;34m)\u001b[0m\u001b[0;34m.\u001b[0m\u001b[0m_fit\u001b[0m\u001b[0;34m(\u001b[0m\u001b[0mdataset\u001b[0m\u001b[0;34m)\u001b[0m\u001b[0;34m\u001b[0m\u001b[0m\n\u001b[1;32m     63\u001b[0m             \u001b[0;32melse\u001b[0m\u001b[0;34m:\u001b[0m\u001b[0;34m\u001b[0m\u001b[0m\n\u001b[0;32m---> 64\u001b[0;31m                 \u001b[0;32mreturn\u001b[0m \u001b[0mself\u001b[0m\u001b[0;34m.\u001b[0m\u001b[0m_fit\u001b[0m\u001b[0;34m(\u001b[0m\u001b[0mdataset\u001b[0m\u001b[0;34m)\u001b[0m\u001b[0;34m\u001b[0m\u001b[0m\n\u001b[0m\u001b[1;32m     65\u001b[0m         \u001b[0;32melse\u001b[0m\u001b[0;34m:\u001b[0m\u001b[0;34m\u001b[0m\u001b[0m\n\u001b[1;32m     66\u001b[0m             raise ValueError(\"Params must be either a param map or a list/tuple of param maps, \"\n",
      "\u001b[0;32m~/spark-2.1.1-bin-hadoop2.7/python/pyspark/ml/wrapper.py\u001b[0m in \u001b[0;36m_fit\u001b[0;34m(self, dataset)\u001b[0m\n\u001b[1;32m    234\u001b[0m \u001b[0;34m\u001b[0m\u001b[0m\n\u001b[1;32m    235\u001b[0m     \u001b[0;32mdef\u001b[0m \u001b[0m_fit\u001b[0m\u001b[0;34m(\u001b[0m\u001b[0mself\u001b[0m\u001b[0;34m,\u001b[0m \u001b[0mdataset\u001b[0m\u001b[0;34m)\u001b[0m\u001b[0;34m:\u001b[0m\u001b[0;34m\u001b[0m\u001b[0m\n\u001b[0;32m--> 236\u001b[0;31m         \u001b[0mjava_model\u001b[0m \u001b[0;34m=\u001b[0m \u001b[0mself\u001b[0m\u001b[0;34m.\u001b[0m\u001b[0m_fit_java\u001b[0m\u001b[0;34m(\u001b[0m\u001b[0mdataset\u001b[0m\u001b[0;34m)\u001b[0m\u001b[0;34m\u001b[0m\u001b[0m\n\u001b[0m\u001b[1;32m    237\u001b[0m         \u001b[0;32mreturn\u001b[0m \u001b[0mself\u001b[0m\u001b[0;34m.\u001b[0m\u001b[0m_create_model\u001b[0m\u001b[0;34m(\u001b[0m\u001b[0mjava_model\u001b[0m\u001b[0;34m)\u001b[0m\u001b[0;34m\u001b[0m\u001b[0m\n\u001b[1;32m    238\u001b[0m \u001b[0;34m\u001b[0m\u001b[0m\n",
      "\u001b[0;32m~/spark-2.1.1-bin-hadoop2.7/python/pyspark/ml/wrapper.py\u001b[0m in \u001b[0;36m_fit_java\u001b[0;34m(self, dataset)\u001b[0m\n\u001b[1;32m    231\u001b[0m         \"\"\"\n\u001b[1;32m    232\u001b[0m         \u001b[0mself\u001b[0m\u001b[0;34m.\u001b[0m\u001b[0m_transfer_params_to_java\u001b[0m\u001b[0;34m(\u001b[0m\u001b[0;34m)\u001b[0m\u001b[0;34m\u001b[0m\u001b[0m\n\u001b[0;32m--> 233\u001b[0;31m         \u001b[0;32mreturn\u001b[0m \u001b[0mself\u001b[0m\u001b[0;34m.\u001b[0m\u001b[0m_java_obj\u001b[0m\u001b[0;34m.\u001b[0m\u001b[0mfit\u001b[0m\u001b[0;34m(\u001b[0m\u001b[0mdataset\u001b[0m\u001b[0;34m.\u001b[0m\u001b[0m_jdf\u001b[0m\u001b[0;34m)\u001b[0m\u001b[0;34m\u001b[0m\u001b[0m\n\u001b[0m\u001b[1;32m    234\u001b[0m \u001b[0;34m\u001b[0m\u001b[0m\n\u001b[1;32m    235\u001b[0m     \u001b[0;32mdef\u001b[0m \u001b[0m_fit\u001b[0m\u001b[0;34m(\u001b[0m\u001b[0mself\u001b[0m\u001b[0;34m,\u001b[0m \u001b[0mdataset\u001b[0m\u001b[0;34m)\u001b[0m\u001b[0;34m:\u001b[0m\u001b[0;34m\u001b[0m\u001b[0m\n",
      "\u001b[0;32m~/spark-2.1.1-bin-hadoop2.7/python/lib/py4j-0.10.4-src.zip/py4j/java_gateway.py\u001b[0m in \u001b[0;36m__call__\u001b[0;34m(self, *args)\u001b[0m\n\u001b[1;32m   1131\u001b[0m         \u001b[0manswer\u001b[0m \u001b[0;34m=\u001b[0m \u001b[0mself\u001b[0m\u001b[0;34m.\u001b[0m\u001b[0mgateway_client\u001b[0m\u001b[0;34m.\u001b[0m\u001b[0msend_command\u001b[0m\u001b[0;34m(\u001b[0m\u001b[0mcommand\u001b[0m\u001b[0;34m)\u001b[0m\u001b[0;34m\u001b[0m\u001b[0m\n\u001b[1;32m   1132\u001b[0m         return_value = get_return_value(\n\u001b[0;32m-> 1133\u001b[0;31m             answer, self.gateway_client, self.target_id, self.name)\n\u001b[0m\u001b[1;32m   1134\u001b[0m \u001b[0;34m\u001b[0m\u001b[0m\n\u001b[1;32m   1135\u001b[0m         \u001b[0;32mfor\u001b[0m \u001b[0mtemp_arg\u001b[0m \u001b[0;32min\u001b[0m \u001b[0mtemp_args\u001b[0m\u001b[0;34m:\u001b[0m\u001b[0;34m\u001b[0m\u001b[0m\n",
      "\u001b[0;32m~/spark-2.1.1-bin-hadoop2.7/python/pyspark/sql/utils.py\u001b[0m in \u001b[0;36mdeco\u001b[0;34m(*a, **kw)\u001b[0m\n\u001b[1;32m     61\u001b[0m     \u001b[0;32mdef\u001b[0m \u001b[0mdeco\u001b[0m\u001b[0;34m(\u001b[0m\u001b[0;34m*\u001b[0m\u001b[0ma\u001b[0m\u001b[0;34m,\u001b[0m \u001b[0;34m**\u001b[0m\u001b[0mkw\u001b[0m\u001b[0;34m)\u001b[0m\u001b[0;34m:\u001b[0m\u001b[0;34m\u001b[0m\u001b[0m\n\u001b[1;32m     62\u001b[0m         \u001b[0;32mtry\u001b[0m\u001b[0;34m:\u001b[0m\u001b[0;34m\u001b[0m\u001b[0m\n\u001b[0;32m---> 63\u001b[0;31m             \u001b[0;32mreturn\u001b[0m \u001b[0mf\u001b[0m\u001b[0;34m(\u001b[0m\u001b[0;34m*\u001b[0m\u001b[0ma\u001b[0m\u001b[0;34m,\u001b[0m \u001b[0;34m**\u001b[0m\u001b[0mkw\u001b[0m\u001b[0;34m)\u001b[0m\u001b[0;34m\u001b[0m\u001b[0m\n\u001b[0m\u001b[1;32m     64\u001b[0m         \u001b[0;32mexcept\u001b[0m \u001b[0mpy4j\u001b[0m\u001b[0;34m.\u001b[0m\u001b[0mprotocol\u001b[0m\u001b[0;34m.\u001b[0m\u001b[0mPy4JJavaError\u001b[0m \u001b[0;32mas\u001b[0m \u001b[0me\u001b[0m\u001b[0;34m:\u001b[0m\u001b[0;34m\u001b[0m\u001b[0m\n\u001b[1;32m     65\u001b[0m             \u001b[0ms\u001b[0m \u001b[0;34m=\u001b[0m \u001b[0me\u001b[0m\u001b[0;34m.\u001b[0m\u001b[0mjava_exception\u001b[0m\u001b[0;34m.\u001b[0m\u001b[0mtoString\u001b[0m\u001b[0;34m(\u001b[0m\u001b[0;34m)\u001b[0m\u001b[0;34m\u001b[0m\u001b[0m\n",
      "\u001b[0;32m~/spark-2.1.1-bin-hadoop2.7/python/lib/py4j-0.10.4-src.zip/py4j/protocol.py\u001b[0m in \u001b[0;36mget_return_value\u001b[0;34m(answer, gateway_client, target_id, name)\u001b[0m\n\u001b[1;32m    317\u001b[0m                 raise Py4JJavaError(\n\u001b[1;32m    318\u001b[0m                     \u001b[0;34m\"An error occurred while calling {0}{1}{2}.\\n\"\u001b[0m\u001b[0;34m.\u001b[0m\u001b[0;34m\u001b[0m\u001b[0m\n\u001b[0;32m--> 319\u001b[0;31m                     format(target_id, \".\", name), value)\n\u001b[0m\u001b[1;32m    320\u001b[0m             \u001b[0;32melse\u001b[0m\u001b[0;34m:\u001b[0m\u001b[0;34m\u001b[0m\u001b[0m\n\u001b[1;32m    321\u001b[0m                 raise Py4JError(\n",
      "\u001b[0;31mPy4JJavaError\u001b[0m: An error occurred while calling o429.fit.\n: org.apache.spark.SparkException: Job aborted due to stage failure: Task 0 in stage 18.0 failed 1 times, most recent failure: Lost task 0.0 in stage 18.0 (TID 24, localhost, executor driver): java.lang.IllegalArgumentException: requirement failed: Naive Bayes requires nonnegative feature values but found (10,[0,1,2,3,4],[-5.521460917862246,-2.8302178350764176,-6.214608098422191,0.1823215567939546,4.290459441148391]).\n\tat scala.Predef$.require(Predef.scala:224)\n\tat org.apache.spark.ml.classification.NaiveBayes$.requireNonnegativeValues(NaiveBayes.scala:227)\n\tat org.apache.spark.ml.classification.NaiveBayes$$anonfun$4.apply(NaiveBayes.scala:143)\n\tat org.apache.spark.ml.classification.NaiveBayes$$anonfun$4.apply(NaiveBayes.scala:143)\n\tat org.apache.spark.ml.classification.NaiveBayes$$anonfun$7.apply(NaiveBayes.scala:163)\n\tat org.apache.spark.ml.classification.NaiveBayes$$anonfun$7.apply(NaiveBayes.scala:161)\n\tat org.apache.spark.rdd.PairRDDFunctions$$anonfun$aggregateByKey$1$$anonfun$apply$12.apply(PairRDDFunctions.scala:177)\n\tat org.apache.spark.util.collection.ExternalSorter$$anonfun$5.apply(ExternalSorter.scala:189)\n\tat org.apache.spark.util.collection.ExternalSorter$$anonfun$5.apply(ExternalSorter.scala:188)\n\tat org.apache.spark.util.collection.AppendOnlyMap.changeValue(AppendOnlyMap.scala:144)\n\tat org.apache.spark.util.collection.SizeTrackingAppendOnlyMap.changeValue(SizeTrackingAppendOnlyMap.scala:32)\n\tat org.apache.spark.util.collection.ExternalSorter.insertAll(ExternalSorter.scala:194)\n\tat org.apache.spark.shuffle.sort.SortShuffleWriter.write(SortShuffleWriter.scala:63)\n\tat org.apache.spark.scheduler.ShuffleMapTask.runTask(ShuffleMapTask.scala:96)\n\tat org.apache.spark.scheduler.ShuffleMapTask.runTask(ShuffleMapTask.scala:53)\n\tat org.apache.spark.scheduler.Task.run(Task.scala:99)\n\tat org.apache.spark.executor.Executor$TaskRunner.run(Executor.scala:322)\n\tat java.util.concurrent.ThreadPoolExecutor.runWorker(ThreadPoolExecutor.java:1149)\n\tat java.util.concurrent.ThreadPoolExecutor$Worker.run(ThreadPoolExecutor.java:624)\n\tat java.lang.Thread.run(Thread.java:748)\n\nDriver stacktrace:\n\tat org.apache.spark.scheduler.DAGScheduler.org$apache$spark$scheduler$DAGScheduler$$failJobAndIndependentStages(DAGScheduler.scala:1435)\n\tat org.apache.spark.scheduler.DAGScheduler$$anonfun$abortStage$1.apply(DAGScheduler.scala:1423)\n\tat org.apache.spark.scheduler.DAGScheduler$$anonfun$abortStage$1.apply(DAGScheduler.scala:1422)\n\tat scala.collection.mutable.ResizableArray$class.foreach(ResizableArray.scala:59)\n\tat scala.collection.mutable.ArrayBuffer.foreach(ArrayBuffer.scala:48)\n\tat org.apache.spark.scheduler.DAGScheduler.abortStage(DAGScheduler.scala:1422)\n\tat org.apache.spark.scheduler.DAGScheduler$$anonfun$handleTaskSetFailed$1.apply(DAGScheduler.scala:802)\n\tat org.apache.spark.scheduler.DAGScheduler$$anonfun$handleTaskSetFailed$1.apply(DAGScheduler.scala:802)\n\tat scala.Option.foreach(Option.scala:257)\n\tat org.apache.spark.scheduler.DAGScheduler.handleTaskSetFailed(DAGScheduler.scala:802)\n\tat org.apache.spark.scheduler.DAGSchedulerEventProcessLoop.doOnReceive(DAGScheduler.scala:1650)\n\tat org.apache.spark.scheduler.DAGSchedulerEventProcessLoop.onReceive(DAGScheduler.scala:1605)\n\tat org.apache.spark.scheduler.DAGSchedulerEventProcessLoop.onReceive(DAGScheduler.scala:1594)\n\tat org.apache.spark.util.EventLoop$$anon$1.run(EventLoop.scala:48)\n\tat org.apache.spark.scheduler.DAGScheduler.runJob(DAGScheduler.scala:628)\n\tat org.apache.spark.SparkContext.runJob(SparkContext.scala:1925)\n\tat org.apache.spark.SparkContext.runJob(SparkContext.scala:1938)\n\tat org.apache.spark.SparkContext.runJob(SparkContext.scala:1951)\n\tat org.apache.spark.SparkContext.runJob(SparkContext.scala:1965)\n\tat org.apache.spark.rdd.RDD$$anonfun$collect$1.apply(RDD.scala:936)\n\tat org.apache.spark.rdd.RDDOperationScope$.withScope(RDDOperationScope.scala:151)\n\tat org.apache.spark.rdd.RDDOperationScope$.withScope(RDDOperationScope.scala:112)\n\tat org.apache.spark.rdd.RDD.withScope(RDD.scala:362)\n\tat org.apache.spark.rdd.RDD.collect(RDD.scala:935)\n\tat org.apache.spark.ml.classification.NaiveBayes.trainWithLabelCheck(NaiveBayes.scala:171)\n\tat org.apache.spark.ml.classification.NaiveBayes.train(NaiveBayes.scala:118)\n\tat org.apache.spark.ml.classification.NaiveBayes.train(NaiveBayes.scala:78)\n\tat org.apache.spark.ml.Predictor.fit(Predictor.scala:96)\n\tat org.apache.spark.ml.Predictor.fit(Predictor.scala:72)\n\tat sun.reflect.NativeMethodAccessorImpl.invoke0(Native Method)\n\tat sun.reflect.NativeMethodAccessorImpl.invoke(NativeMethodAccessorImpl.java:62)\n\tat sun.reflect.DelegatingMethodAccessorImpl.invoke(DelegatingMethodAccessorImpl.java:43)\n\tat java.lang.reflect.Method.invoke(Method.java:498)\n\tat py4j.reflection.MethodInvoker.invoke(MethodInvoker.java:244)\n\tat py4j.reflection.ReflectionEngine.invoke(ReflectionEngine.java:357)\n\tat py4j.Gateway.invoke(Gateway.java:280)\n\tat py4j.commands.AbstractCommand.invokeMethod(AbstractCommand.java:132)\n\tat py4j.commands.CallCommand.execute(CallCommand.java:79)\n\tat py4j.GatewayConnection.run(GatewayConnection.java:214)\n\tat java.lang.Thread.run(Thread.java:748)\nCaused by: java.lang.IllegalArgumentException: requirement failed: Naive Bayes requires nonnegative feature values but found (10,[0,1,2,3,4],[-5.521460917862246,-2.8302178350764176,-6.214608098422191,0.1823215567939546,4.290459441148391]).\n\tat scala.Predef$.require(Predef.scala:224)\n\tat org.apache.spark.ml.classification.NaiveBayes$.requireNonnegativeValues(NaiveBayes.scala:227)\n\tat org.apache.spark.ml.classification.NaiveBayes$$anonfun$4.apply(NaiveBayes.scala:143)\n\tat org.apache.spark.ml.classification.NaiveBayes$$anonfun$4.apply(NaiveBayes.scala:143)\n\tat org.apache.spark.ml.classification.NaiveBayes$$anonfun$7.apply(NaiveBayes.scala:163)\n\tat org.apache.spark.ml.classification.NaiveBayes$$anonfun$7.apply(NaiveBayes.scala:161)\n\tat org.apache.spark.rdd.PairRDDFunctions$$anonfun$aggregateByKey$1$$anonfun$apply$12.apply(PairRDDFunctions.scala:177)\n\tat org.apache.spark.util.collection.ExternalSorter$$anonfun$5.apply(ExternalSorter.scala:189)\n\tat org.apache.spark.util.collection.ExternalSorter$$anonfun$5.apply(ExternalSorter.scala:188)\n\tat org.apache.spark.util.collection.AppendOnlyMap.changeValue(AppendOnlyMap.scala:144)\n\tat org.apache.spark.util.collection.SizeTrackingAppendOnlyMap.changeValue(SizeTrackingAppendOnlyMap.scala:32)\n\tat org.apache.spark.util.collection.ExternalSorter.insertAll(ExternalSorter.scala:194)\n\tat org.apache.spark.shuffle.sort.SortShuffleWriter.write(SortShuffleWriter.scala:63)\n\tat org.apache.spark.scheduler.ShuffleMapTask.runTask(ShuffleMapTask.scala:96)\n\tat org.apache.spark.scheduler.ShuffleMapTask.runTask(ShuffleMapTask.scala:53)\n\tat org.apache.spark.scheduler.Task.run(Task.scala:99)\n\tat org.apache.spark.executor.Executor$TaskRunner.run(Executor.scala:322)\n\tat java.util.concurrent.ThreadPoolExecutor.runWorker(ThreadPoolExecutor.java:1149)\n\tat java.util.concurrent.ThreadPoolExecutor$Worker.run(ThreadPoolExecutor.java:624)\n\t... 1 more\n"
     ]
    }
   ],
   "source": [
    "model = nb.fit(label_features)"
   ]
  },
  {
   "cell_type": "code",
   "execution_count": 36,
   "metadata": {},
   "outputs": [
    {
     "name": "stdout",
     "output_type": "stream",
     "text": [
      "+-------+-------+-------+------+--------+---------+---------+--------+--------+----------+---+\n",
      "|log_SO2|log_NO2| log_O3|log_CO|log_PM10|SO2_level|NO2_level|O3_level|CO_level|PM10_level|_11|\n",
      "+-------+-------+-------+------+--------+---------+---------+--------+--------+----------+---+\n",
      "|-1.0602| -0.282|-0.0618|0.8069| -0.9107|   1.6153|  -5.5214| -2.8302| -6.2146|    0.1823|  1|\n",
      "+-------+-------+-------+------+--------+---------+---------+--------+--------+----------+---+\n",
      "\n",
      "+-----------------------------------------------------------------------------+------+\n",
      "|features                                                                     |label |\n",
      "+-----------------------------------------------------------------------------+------+\n",
      "|[-1.0602,-0.282,-0.0618,0.8069,-0.9107,1.6153,-5.5214,-2.8302,-6.2146,0.1823]|0.1823|\n",
      "+-----------------------------------------------------------------------------+------+\n",
      "\n"
     ]
    }
   ],
   "source": [
    "df1 = spark.createDataFrame([(-1.0602,-0.282,-0.0618,0.8069,-0.9107,1.6153,-5.5214,-2.8302,-6.2146,0.1823,1)],[\"log_SO2\",\"log_NO2\",\"log_O3\",\"log_CO\",\"log_PM10\",\"SO2_level\",\"NO2_level\",\"O3_level\",\"CO_level\",\"PM10_level\"])\n",
    "df1.show()\n",
    "test_assembler = VectorAssembler(inputCols=[\"log_SO2\",\"log_NO2\",\"log_O3\",\"log_CO\",\"log_PM10\",\"SO2_level\",\"NO2_level\",\"O3_level\",\"CO_level\",\"PM10_level\"],outputCol=\"features\")\n",
    "test_output = test_assembler.transform(df1)\n",
    "test_label_features = test_output.select(\"features\", \"PM10_level\").toDF('features','label')\n",
    "test_label_features.show(truncate=False)"
   ]
  },
  {
   "cell_type": "code",
   "execution_count": 37,
   "metadata": {},
   "outputs": [
    {
     "ename": "NameError",
     "evalue": "name 'model' is not defined",
     "output_type": "error",
     "traceback": [
      "\u001b[0;31m---------------------------------------------------------------------------\u001b[0m",
      "\u001b[0;31mNameError\u001b[0m                                 Traceback (most recent call last)",
      "\u001b[0;32m<ipython-input-37-d40a807e41ea>\u001b[0m in \u001b[0;36m<module>\u001b[0;34m()\u001b[0m\n\u001b[0;32m----> 1\u001b[0;31m \u001b[0mresult\u001b[0m \u001b[0;34m=\u001b[0m \u001b[0mmodel\u001b[0m\u001b[0;34m.\u001b[0m\u001b[0mtransform\u001b[0m\u001b[0;34m(\u001b[0m\u001b[0mtest_label_features\u001b[0m\u001b[0;34m)\u001b[0m\u001b[0;34m\u001b[0m\u001b[0m\n\u001b[0m\u001b[1;32m      2\u001b[0m \u001b[0mprint\u001b[0m\u001b[0;34m(\u001b[0m\u001b[0mresult\u001b[0m\u001b[0;34m.\u001b[0m\u001b[0mcollect\u001b[0m\u001b[0;34m(\u001b[0m\u001b[0;34m)\u001b[0m\u001b[0;34m)\u001b[0m\u001b[0;34m\u001b[0m\u001b[0m\n\u001b[1;32m      3\u001b[0m \u001b[0mpredictionAndLabels\u001b[0m \u001b[0;34m=\u001b[0m \u001b[0mresult\u001b[0m\u001b[0;34m.\u001b[0m\u001b[0mselect\u001b[0m\u001b[0;34m(\u001b[0m\u001b[0;34m\"prediction\"\u001b[0m\u001b[0;34m,\u001b[0m \u001b[0;34m\"label\"\u001b[0m\u001b[0;34m)\u001b[0m\u001b[0;34m.\u001b[0m\u001b[0mcollect\u001b[0m\u001b[0;34m(\u001b[0m\u001b[0;34m)\u001b[0m\u001b[0;34m\u001b[0m\u001b[0m\n\u001b[1;32m      4\u001b[0m \u001b[0mprint\u001b[0m\u001b[0;34m(\u001b[0m\u001b[0mpredictionAndLabels\u001b[0m\u001b[0;34m)\u001b[0m\u001b[0;34m\u001b[0m\u001b[0m\n",
      "\u001b[0;31mNameError\u001b[0m: name 'model' is not defined"
     ]
    }
   ],
   "source": [
    "result = model.transform(test_label_features)\n",
    "print(result.collect())\n",
    "predictionAndLabels = result.select(\"prediction\", \"label\").collect()\n",
    "print(predictionAndLabels)"
   ]
  },
  {
   "cell_type": "code",
   "execution_count": null,
   "metadata": {},
   "outputs": [],
   "source": []
  }
 ],
 "metadata": {
  "kernelspec": {
   "display_name": "Python 3",
   "language": "python",
   "name": "python3"
  },
  "language_info": {
   "codemirror_mode": {
    "name": "ipython",
    "version": 3
   },
   "file_extension": ".py",
   "mimetype": "text/x-python",
   "name": "python",
   "nbconvert_exporter": "python",
   "pygments_lexer": "ipython3",
   "version": "3.5.2"
  }
 },
 "nbformat": 4,
 "nbformat_minor": 2
}
